{
 "cells": [
  {
   "cell_type": "code",
   "execution_count": 29,
   "id": "16e2e4bb",
   "metadata": {},
   "outputs": [],
   "source": [
    "import math as m\n",
    "import numpy as np\n",
    "import matplotlib.pyplot as plt\n",
    "import pandas as pd\n",
    "from datetime import datetime\n",
    "import pandas_datareader as pdr\n",
    "from pandas_datareader import data as wb"
   ]
  },
  {
   "cell_type": "code",
   "execution_count": 30,
   "id": "ee4ec8a8",
   "metadata": {},
   "outputs": [],
   "source": [
    "import yfinance as yf\n",
    "PG = yf.Ticker('PG')\n"
   ]
  },
  {
   "cell_type": "code",
   "execution_count": 31,
   "id": "b5eb60c7",
   "metadata": {},
   "outputs": [],
   "source": [
    "PG_data = PG.history(start = '2017-1-1')"
   ]
  },
  {
   "cell_type": "code",
   "execution_count": 32,
   "id": "2afbede0",
   "metadata": {},
   "outputs": [
    {
     "data": {
      "text/html": [
       "<div>\n",
       "<style scoped>\n",
       "    .dataframe tbody tr th:only-of-type {\n",
       "        vertical-align: middle;\n",
       "    }\n",
       "\n",
       "    .dataframe tbody tr th {\n",
       "        vertical-align: top;\n",
       "    }\n",
       "\n",
       "    .dataframe thead th {\n",
       "        text-align: right;\n",
       "    }\n",
       "</style>\n",
       "<table border=\"1\" class=\"dataframe\">\n",
       "  <thead>\n",
       "    <tr style=\"text-align: right;\">\n",
       "      <th></th>\n",
       "      <th>Open</th>\n",
       "      <th>High</th>\n",
       "      <th>Low</th>\n",
       "      <th>Close</th>\n",
       "      <th>Volume</th>\n",
       "      <th>Dividends</th>\n",
       "      <th>Stock Splits</th>\n",
       "    </tr>\n",
       "    <tr>\n",
       "      <th>Date</th>\n",
       "      <th></th>\n",
       "      <th></th>\n",
       "      <th></th>\n",
       "      <th></th>\n",
       "      <th></th>\n",
       "      <th></th>\n",
       "      <th></th>\n",
       "    </tr>\n",
       "  </thead>\n",
       "  <tbody>\n",
       "    <tr>\n",
       "      <th>2017-01-03 00:00:00-05:00</th>\n",
       "      <td>68.791829</td>\n",
       "      <td>69.210093</td>\n",
       "      <td>68.480185</td>\n",
       "      <td>69.054268</td>\n",
       "      <td>8792700</td>\n",
       "      <td>0.0</td>\n",
       "      <td>0.0</td>\n",
       "    </tr>\n",
       "    <tr>\n",
       "      <th>2017-01-04 00:00:00-05:00</th>\n",
       "      <td>69.259307</td>\n",
       "      <td>69.382327</td>\n",
       "      <td>69.087082</td>\n",
       "      <td>69.300316</td>\n",
       "      <td>8096700</td>\n",
       "      <td>0.0</td>\n",
       "      <td>0.0</td>\n",
       "    </tr>\n",
       "    <tr>\n",
       "      <th>2017-01-05 00:00:00-05:00</th>\n",
       "      <td>69.226501</td>\n",
       "      <td>70.063022</td>\n",
       "      <td>69.201892</td>\n",
       "      <td>69.759575</td>\n",
       "      <td>6852400</td>\n",
       "      <td>0.0</td>\n",
       "      <td>0.0</td>\n",
       "    </tr>\n",
       "    <tr>\n",
       "      <th>2017-01-06 00:00:00-05:00</th>\n",
       "      <td>69.661147</td>\n",
       "      <td>69.915383</td>\n",
       "      <td>69.398708</td>\n",
       "      <td>69.734955</td>\n",
       "      <td>4799900</td>\n",
       "      <td>0.0</td>\n",
       "      <td>0.0</td>\n",
       "    </tr>\n",
       "    <tr>\n",
       "      <th>2017-01-09 00:00:00-05:00</th>\n",
       "      <td>68.939440</td>\n",
       "      <td>69.431518</td>\n",
       "      <td>68.685204</td>\n",
       "      <td>69.218285</td>\n",
       "      <td>11000600</td>\n",
       "      <td>0.0</td>\n",
       "      <td>0.0</td>\n",
       "    </tr>\n",
       "    <tr>\n",
       "      <th>...</th>\n",
       "      <td>...</td>\n",
       "      <td>...</td>\n",
       "      <td>...</td>\n",
       "      <td>...</td>\n",
       "      <td>...</td>\n",
       "      <td>...</td>\n",
       "      <td>...</td>\n",
       "    </tr>\n",
       "    <tr>\n",
       "      <th>2024-01-22 00:00:00-05:00</th>\n",
       "      <td>146.970001</td>\n",
       "      <td>148.210007</td>\n",
       "      <td>146.279999</td>\n",
       "      <td>147.860001</td>\n",
       "      <td>11084100</td>\n",
       "      <td>0.0</td>\n",
       "      <td>0.0</td>\n",
       "    </tr>\n",
       "    <tr>\n",
       "      <th>2024-01-23 00:00:00-05:00</th>\n",
       "      <td>153.110001</td>\n",
       "      <td>156.399994</td>\n",
       "      <td>152.889999</td>\n",
       "      <td>153.979996</td>\n",
       "      <td>19101600</td>\n",
       "      <td>0.0</td>\n",
       "      <td>0.0</td>\n",
       "    </tr>\n",
       "    <tr>\n",
       "      <th>2024-01-24 00:00:00-05:00</th>\n",
       "      <td>153.929993</td>\n",
       "      <td>154.229996</td>\n",
       "      <td>152.089996</td>\n",
       "      <td>152.119995</td>\n",
       "      <td>11592700</td>\n",
       "      <td>0.0</td>\n",
       "      <td>0.0</td>\n",
       "    </tr>\n",
       "    <tr>\n",
       "      <th>2024-01-25 00:00:00-05:00</th>\n",
       "      <td>152.399994</td>\n",
       "      <td>155.660004</td>\n",
       "      <td>152.059998</td>\n",
       "      <td>155.619995</td>\n",
       "      <td>10352500</td>\n",
       "      <td>0.0</td>\n",
       "      <td>0.0</td>\n",
       "    </tr>\n",
       "    <tr>\n",
       "      <th>2024-01-26 00:00:00-05:00</th>\n",
       "      <td>155.809998</td>\n",
       "      <td>156.160004</td>\n",
       "      <td>155.339996</td>\n",
       "      <td>156.139999</td>\n",
       "      <td>8356600</td>\n",
       "      <td>0.0</td>\n",
       "      <td>0.0</td>\n",
       "    </tr>\n",
       "  </tbody>\n",
       "</table>\n",
       "<p>1778 rows × 7 columns</p>\n",
       "</div>"
      ],
      "text/plain": [
       "                                 Open        High         Low       Close  \\\n",
       "Date                                                                        \n",
       "2017-01-03 00:00:00-05:00   68.791829   69.210093   68.480185   69.054268   \n",
       "2017-01-04 00:00:00-05:00   69.259307   69.382327   69.087082   69.300316   \n",
       "2017-01-05 00:00:00-05:00   69.226501   70.063022   69.201892   69.759575   \n",
       "2017-01-06 00:00:00-05:00   69.661147   69.915383   69.398708   69.734955   \n",
       "2017-01-09 00:00:00-05:00   68.939440   69.431518   68.685204   69.218285   \n",
       "...                               ...         ...         ...         ...   \n",
       "2024-01-22 00:00:00-05:00  146.970001  148.210007  146.279999  147.860001   \n",
       "2024-01-23 00:00:00-05:00  153.110001  156.399994  152.889999  153.979996   \n",
       "2024-01-24 00:00:00-05:00  153.929993  154.229996  152.089996  152.119995   \n",
       "2024-01-25 00:00:00-05:00  152.399994  155.660004  152.059998  155.619995   \n",
       "2024-01-26 00:00:00-05:00  155.809998  156.160004  155.339996  156.139999   \n",
       "\n",
       "                             Volume  Dividends  Stock Splits  \n",
       "Date                                                          \n",
       "2017-01-03 00:00:00-05:00   8792700        0.0           0.0  \n",
       "2017-01-04 00:00:00-05:00   8096700        0.0           0.0  \n",
       "2017-01-05 00:00:00-05:00   6852400        0.0           0.0  \n",
       "2017-01-06 00:00:00-05:00   4799900        0.0           0.0  \n",
       "2017-01-09 00:00:00-05:00  11000600        0.0           0.0  \n",
       "...                             ...        ...           ...  \n",
       "2024-01-22 00:00:00-05:00  11084100        0.0           0.0  \n",
       "2024-01-23 00:00:00-05:00  19101600        0.0           0.0  \n",
       "2024-01-24 00:00:00-05:00  11592700        0.0           0.0  \n",
       "2024-01-25 00:00:00-05:00  10352500        0.0           0.0  \n",
       "2024-01-26 00:00:00-05:00   8356600        0.0           0.0  \n",
       "\n",
       "[1778 rows x 7 columns]"
      ]
     },
     "execution_count": 32,
     "metadata": {},
     "output_type": "execute_result"
    }
   ],
   "source": [
    "PG_data"
   ]
  },
  {
   "cell_type": "code",
   "execution_count": 33,
   "id": "5563857b",
   "metadata": {},
   "outputs": [
    {
     "data": {
      "text/html": [
       "<div>\n",
       "<style scoped>\n",
       "    .dataframe tbody tr th:only-of-type {\n",
       "        vertical-align: middle;\n",
       "    }\n",
       "\n",
       "    .dataframe tbody tr th {\n",
       "        vertical-align: top;\n",
       "    }\n",
       "\n",
       "    .dataframe thead th {\n",
       "        text-align: right;\n",
       "    }\n",
       "</style>\n",
       "<table border=\"1\" class=\"dataframe\">\n",
       "  <thead>\n",
       "    <tr style=\"text-align: right;\">\n",
       "      <th></th>\n",
       "      <th>Open</th>\n",
       "      <th>High</th>\n",
       "      <th>Low</th>\n",
       "      <th>Close</th>\n",
       "      <th>Volume</th>\n",
       "      <th>Dividends</th>\n",
       "      <th>Stock Splits</th>\n",
       "    </tr>\n",
       "    <tr>\n",
       "      <th>Date</th>\n",
       "      <th></th>\n",
       "      <th></th>\n",
       "      <th></th>\n",
       "      <th></th>\n",
       "      <th></th>\n",
       "      <th></th>\n",
       "      <th></th>\n",
       "    </tr>\n",
       "  </thead>\n",
       "  <tbody>\n",
       "    <tr>\n",
       "      <th>2024-01-22 00:00:00-05:00</th>\n",
       "      <td>146.970001</td>\n",
       "      <td>148.210007</td>\n",
       "      <td>146.279999</td>\n",
       "      <td>147.860001</td>\n",
       "      <td>11084100</td>\n",
       "      <td>0.0</td>\n",
       "      <td>0.0</td>\n",
       "    </tr>\n",
       "    <tr>\n",
       "      <th>2024-01-23 00:00:00-05:00</th>\n",
       "      <td>153.110001</td>\n",
       "      <td>156.399994</td>\n",
       "      <td>152.889999</td>\n",
       "      <td>153.979996</td>\n",
       "      <td>19101600</td>\n",
       "      <td>0.0</td>\n",
       "      <td>0.0</td>\n",
       "    </tr>\n",
       "    <tr>\n",
       "      <th>2024-01-24 00:00:00-05:00</th>\n",
       "      <td>153.929993</td>\n",
       "      <td>154.229996</td>\n",
       "      <td>152.089996</td>\n",
       "      <td>152.119995</td>\n",
       "      <td>11592700</td>\n",
       "      <td>0.0</td>\n",
       "      <td>0.0</td>\n",
       "    </tr>\n",
       "    <tr>\n",
       "      <th>2024-01-25 00:00:00-05:00</th>\n",
       "      <td>152.399994</td>\n",
       "      <td>155.660004</td>\n",
       "      <td>152.059998</td>\n",
       "      <td>155.619995</td>\n",
       "      <td>10352500</td>\n",
       "      <td>0.0</td>\n",
       "      <td>0.0</td>\n",
       "    </tr>\n",
       "    <tr>\n",
       "      <th>2024-01-26 00:00:00-05:00</th>\n",
       "      <td>155.809998</td>\n",
       "      <td>156.160004</td>\n",
       "      <td>155.339996</td>\n",
       "      <td>156.139999</td>\n",
       "      <td>8356600</td>\n",
       "      <td>0.0</td>\n",
       "      <td>0.0</td>\n",
       "    </tr>\n",
       "  </tbody>\n",
       "</table>\n",
       "</div>"
      ],
      "text/plain": [
       "                                 Open        High         Low       Close  \\\n",
       "Date                                                                        \n",
       "2024-01-22 00:00:00-05:00  146.970001  148.210007  146.279999  147.860001   \n",
       "2024-01-23 00:00:00-05:00  153.110001  156.399994  152.889999  153.979996   \n",
       "2024-01-24 00:00:00-05:00  153.929993  154.229996  152.089996  152.119995   \n",
       "2024-01-25 00:00:00-05:00  152.399994  155.660004  152.059998  155.619995   \n",
       "2024-01-26 00:00:00-05:00  155.809998  156.160004  155.339996  156.139999   \n",
       "\n",
       "                             Volume  Dividends  Stock Splits  \n",
       "Date                                                          \n",
       "2024-01-22 00:00:00-05:00  11084100        0.0           0.0  \n",
       "2024-01-23 00:00:00-05:00  19101600        0.0           0.0  \n",
       "2024-01-24 00:00:00-05:00  11592700        0.0           0.0  \n",
       "2024-01-25 00:00:00-05:00  10352500        0.0           0.0  \n",
       "2024-01-26 00:00:00-05:00   8356600        0.0           0.0  "
      ]
     },
     "execution_count": 33,
     "metadata": {},
     "output_type": "execute_result"
    }
   ],
   "source": [
    "PG_data.tail()"
   ]
  },
  {
   "cell_type": "code",
   "execution_count": 34,
   "id": "cc6866a7",
   "metadata": {},
   "outputs": [
    {
     "data": {
      "text/html": [
       "<div>\n",
       "<style scoped>\n",
       "    .dataframe tbody tr th:only-of-type {\n",
       "        vertical-align: middle;\n",
       "    }\n",
       "\n",
       "    .dataframe tbody tr th {\n",
       "        vertical-align: top;\n",
       "    }\n",
       "\n",
       "    .dataframe thead th {\n",
       "        text-align: right;\n",
       "    }\n",
       "</style>\n",
       "<table border=\"1\" class=\"dataframe\">\n",
       "  <thead>\n",
       "    <tr style=\"text-align: right;\">\n",
       "      <th></th>\n",
       "      <th>Open</th>\n",
       "      <th>High</th>\n",
       "      <th>Low</th>\n",
       "      <th>Close</th>\n",
       "      <th>Volume</th>\n",
       "      <th>Dividends</th>\n",
       "      <th>Stock Splits</th>\n",
       "    </tr>\n",
       "    <tr>\n",
       "      <th>Date</th>\n",
       "      <th></th>\n",
       "      <th></th>\n",
       "      <th></th>\n",
       "      <th></th>\n",
       "      <th></th>\n",
       "      <th></th>\n",
       "      <th></th>\n",
       "    </tr>\n",
       "  </thead>\n",
       "  <tbody>\n",
       "    <tr>\n",
       "      <th>2017-01-03 00:00:00-05:00</th>\n",
       "      <td>68.791829</td>\n",
       "      <td>69.210093</td>\n",
       "      <td>68.480185</td>\n",
       "      <td>69.054268</td>\n",
       "      <td>8792700</td>\n",
       "      <td>0.0</td>\n",
       "      <td>0.0</td>\n",
       "    </tr>\n",
       "    <tr>\n",
       "      <th>2017-01-04 00:00:00-05:00</th>\n",
       "      <td>69.259307</td>\n",
       "      <td>69.382327</td>\n",
       "      <td>69.087082</td>\n",
       "      <td>69.300316</td>\n",
       "      <td>8096700</td>\n",
       "      <td>0.0</td>\n",
       "      <td>0.0</td>\n",
       "    </tr>\n",
       "    <tr>\n",
       "      <th>2017-01-05 00:00:00-05:00</th>\n",
       "      <td>69.226501</td>\n",
       "      <td>70.063022</td>\n",
       "      <td>69.201892</td>\n",
       "      <td>69.759575</td>\n",
       "      <td>6852400</td>\n",
       "      <td>0.0</td>\n",
       "      <td>0.0</td>\n",
       "    </tr>\n",
       "    <tr>\n",
       "      <th>2017-01-06 00:00:00-05:00</th>\n",
       "      <td>69.661147</td>\n",
       "      <td>69.915383</td>\n",
       "      <td>69.398708</td>\n",
       "      <td>69.734955</td>\n",
       "      <td>4799900</td>\n",
       "      <td>0.0</td>\n",
       "      <td>0.0</td>\n",
       "    </tr>\n",
       "    <tr>\n",
       "      <th>2017-01-09 00:00:00-05:00</th>\n",
       "      <td>68.939440</td>\n",
       "      <td>69.431518</td>\n",
       "      <td>68.685204</td>\n",
       "      <td>69.218285</td>\n",
       "      <td>11000600</td>\n",
       "      <td>0.0</td>\n",
       "      <td>0.0</td>\n",
       "    </tr>\n",
       "  </tbody>\n",
       "</table>\n",
       "</div>"
      ],
      "text/plain": [
       "                                Open       High        Low      Close  \\\n",
       "Date                                                                    \n",
       "2017-01-03 00:00:00-05:00  68.791829  69.210093  68.480185  69.054268   \n",
       "2017-01-04 00:00:00-05:00  69.259307  69.382327  69.087082  69.300316   \n",
       "2017-01-05 00:00:00-05:00  69.226501  70.063022  69.201892  69.759575   \n",
       "2017-01-06 00:00:00-05:00  69.661147  69.915383  69.398708  69.734955   \n",
       "2017-01-09 00:00:00-05:00  68.939440  69.431518  68.685204  69.218285   \n",
       "\n",
       "                             Volume  Dividends  Stock Splits  \n",
       "Date                                                          \n",
       "2017-01-03 00:00:00-05:00   8792700        0.0           0.0  \n",
       "2017-01-04 00:00:00-05:00   8096700        0.0           0.0  \n",
       "2017-01-05 00:00:00-05:00   6852400        0.0           0.0  \n",
       "2017-01-06 00:00:00-05:00   4799900        0.0           0.0  \n",
       "2017-01-09 00:00:00-05:00  11000600        0.0           0.0  "
      ]
     },
     "execution_count": 34,
     "metadata": {},
     "output_type": "execute_result"
    }
   ],
   "source": [
    "PG_data.head()"
   ]
  },
  {
   "cell_type": "code",
   "execution_count": 35,
   "id": "1a0e2de7",
   "metadata": {},
   "outputs": [],
   "source": [
    "PG_data['simple_return']= (PG_data['Close']/PG_data['Close'].shift(1))-1 #Calculating the rate of return on the daily for PG"
   ]
  },
  {
   "cell_type": "code",
   "execution_count": 36,
   "id": "85e97583",
   "metadata": {},
   "outputs": [
    {
     "data": {
      "text/plain": [
       "Date\n",
       "2017-01-03 00:00:00-05:00         NaN\n",
       "2017-01-04 00:00:00-05:00    0.003563\n",
       "2017-01-05 00:00:00-05:00    0.006627\n",
       "2017-01-06 00:00:00-05:00   -0.000353\n",
       "2017-01-09 00:00:00-05:00   -0.007409\n",
       "                               ...   \n",
       "2024-01-22 00:00:00-05:00    0.001965\n",
       "2024-01-23 00:00:00-05:00    0.041390\n",
       "2024-01-24 00:00:00-05:00   -0.012079\n",
       "2024-01-25 00:00:00-05:00    0.023008\n",
       "2024-01-26 00:00:00-05:00    0.003342\n",
       "Name: simple_return, Length: 1778, dtype: float64"
      ]
     },
     "execution_count": 36,
     "metadata": {},
     "output_type": "execute_result"
    }
   ],
   "source": [
    "PG_data['simple_return']"
   ]
  },
  {
   "cell_type": "code",
   "execution_count": 37,
   "id": "51b2f615",
   "metadata": {},
   "outputs": [
    {
     "data": {
      "image/png": "[encoded data removed]",
      "text/plain": [
       "<Figure size 800x500 with 1 Axes>"
      ]
     },
     "metadata": {},
     "output_type": "display_data"
    }
   ],
   "source": [
    "PG_data['simple_return'].plot(figsize = (8,5)) # plot the simple_return column on a graph sized 8,5\n",
    "plt.show()                               "
   ]
  },
  {
   "cell_type": "code",
   "execution_count": 38,
   "id": "e1ad4da0",
   "metadata": {},
   "outputs": [
    {
     "data": {
      "text/plain": [
       "0.0005364578012198894"
      ]
     },
     "execution_count": 38,
     "metadata": {},
     "output_type": "execute_result"
    }
   ],
   "source": [
    "avg_returns_d = PG_data['simple_return'].mean() #Calculating the average returns per day \n",
    "avg_returns_d"
   ]
  },
  {
   "cell_type": "code",
   "execution_count": 39,
   "id": "8a4285b4",
   "metadata": {},
   "outputs": [
    {
     "data": {
      "text/plain": [
       "'13.411000000000001 %'"
      ]
     },
     "execution_count": 39,
     "metadata": {},
     "output_type": "execute_result"
    }
   ],
   "source": [
    "avg_returns_y = str(round(avg_returns_d*250,5)*100) + \" %\" #there about 250-252 trading days per year so multiplying by 250 to get yearly Avg return rate\n",
    "avg_returns_y"
   ]
  },
  {
   "cell_type": "code",
   "execution_count": 40,
   "id": "cc5172a6",
   "metadata": {},
   "outputs": [],
   "source": [
    "PG_data['log_return'] = np.log(PG_data[\"Close\"])/PG_data['Close'].shift(1) #Calculating daily Log return"
   ]
  },
  {
   "cell_type": "code",
   "execution_count": 41,
   "id": "39454e2a",
   "metadata": {},
   "outputs": [
    {
     "data": {
      "text/plain": [
       "Date\n",
       "2017-01-03 00:00:00-05:00         NaN\n",
       "2017-01-04 00:00:00-05:00    0.061379\n",
       "2017-01-05 00:00:00-05:00    0.061256\n",
       "2017-01-06 00:00:00-05:00    0.060848\n",
       "2017-01-09 00:00:00-05:00    0.060762\n",
       "                               ...   \n",
       "2024-01-22 00:00:00-05:00    0.033857\n",
       "2024-01-23 00:00:00-05:00    0.034065\n",
       "2024-01-24 00:00:00-05:00    0.032632\n",
       "2024-01-25 00:00:00-05:00    0.033180\n",
       "2024-01-26 00:00:00-05:00    0.032456\n",
       "Name: log_return, Length: 1778, dtype: float64"
      ]
     },
     "execution_count": 41,
     "metadata": {},
     "output_type": "execute_result"
    }
   ],
   "source": [
    "PG_data['log_return']"
   ]
  },
  {
   "cell_type": "code",
   "execution_count": 42,
   "id": "7bda321f",
   "metadata": {},
   "outputs": [
    {
     "data": {
      "image/png": "[encoded data removed]",
      "text/plain": [
       "<Figure size 800x500 with 1 Axes>"
      ]
     },
     "metadata": {},
     "output_type": "display_data"
    }
   ],
   "source": [
    "PG_data['log_return'].plot(figsize = (8,5)) # plot the simple_return column on a graph sized 8,5\n",
    "plt.show()"
   ]
  },
  {
   "cell_type": "code",
   "execution_count": 43,
   "id": "2e29a244",
   "metadata": {},
   "outputs": [
    {
     "data": {
      "text/plain": [
       "0.04455677223101699"
      ]
     },
     "execution_count": 43,
     "metadata": {},
     "output_type": "execute_result"
    }
   ],
   "source": [
    "log_return_d = PG_data['log_return'].mean() #Calculating the average log returns per day\n",
    "log_return_d"
   ]
  },
  {
   "cell_type": "code",
   "execution_count": 44,
   "id": "1fe1be7a",
   "metadata": {},
   "outputs": [
    {
     "data": {
      "text/plain": [
       "'11.14%'"
      ]
     },
     "execution_count": 44,
     "metadata": {},
     "output_type": "execute_result"
    }
   ],
   "source": [
    "log_return_y = str(round(log_return_d,5)*250) + \"%\" #there about 250-252 trading days per year so multiplying by 250 to get yearly Avg lo return rate\n",
    "log_return_y"
   ]
  },
  {
   "cell_type": "code",
   "execution_count": 45,
   "id": "f8e39106",
   "metadata": {},
   "outputs": [],
   "source": [
    "#RATE OF RETURN OF OF A PORTFOLIO OF SECURITIES"
   ]
  },
  {
   "cell_type": "code",
   "execution_count": 46,
   "id": "c7c92aee",
   "metadata": {},
   "outputs": [],
   "source": [
    "tickers = ['PG','MSFT','F','GE']\n",
    "mydata = pd.DataFrame() # creating a dataframe for my Portfolio of returns. \n",
    "    "
   ]
  },
  {
   "cell_type": "code",
   "execution_count": 47,
   "id": "44c5b01b",
   "metadata": {},
   "outputs": [],
   "source": [
    "for t in tickers:\n",
    "    data=yf.Ticker(t)\n",
    "    mydata[t]= data.history(start = '2017-03-17')['Close'] #filling the dataframe with close data\n",
    "    "
   ]
  },
  {
   "cell_type": "code",
   "execution_count": 20,
   "id": "7cbb84f3",
   "metadata": {},
   "outputs": [
    {
     "data": {
      "text/html": [
       "<div>\n",
       "<style scoped>\n",
       "    .dataframe tbody tr th:only-of-type {\n",
       "        vertical-align: middle;\n",
       "    }\n",
       "\n",
       "    .dataframe tbody tr th {\n",
       "        vertical-align: top;\n",
       "    }\n",
       "\n",
       "    .dataframe thead th {\n",
       "        text-align: right;\n",
       "    }\n",
       "</style>\n",
       "<table border=\"1\" class=\"dataframe\">\n",
       "  <thead>\n",
       "    <tr style=\"text-align: right;\">\n",
       "      <th></th>\n",
       "      <th>PG</th>\n",
       "      <th>MSFT</th>\n",
       "      <th>F</th>\n",
       "      <th>GE</th>\n",
       "    </tr>\n",
       "  </thead>\n",
       "  <tbody>\n",
       "  </tbody>\n",
       "</table>\n",
       "</div>"
      ],
      "text/plain": [
       "Empty DataFrame\n",
       "Columns: [PG, MSFT, F, GE]\n",
       "Index: []"
      ]
     },
     "execution_count": 20,
     "metadata": {},
     "output_type": "execute_result"
    }
   ],
   "source": [
    "mydata"
   ]
  },
  {
   "cell_type": "code",
   "execution_count": 21,
   "id": "b0352bc4",
   "metadata": {},
   "outputs": [
    {
     "data": {
      "text/plain": [
       "<bound method NDFrame.head of Empty DataFrame\n",
       "Columns: [PG, MSFT, F, GE]\n",
       "Index: []>"
      ]
     },
     "execution_count": 21,
     "metadata": {},
     "output_type": "execute_result"
    }
   ],
   "source": [
    "mydata.head"
   ]
  },
  {
   "cell_type": "code",
   "execution_count": 22,
   "id": "4980b9a6",
   "metadata": {},
   "outputs": [
    {
     "data": {
      "text/plain": [
       "<bound method NDFrame.tail of Empty DataFrame\n",
       "Columns: [PG, MSFT, F, GE]\n",
       "Index: []>"
      ]
     },
     "execution_count": 22,
     "metadata": {},
     "output_type": "execute_result"
    }
   ],
   "source": [
    "mydata.tail"
   ]
  },
  {
   "cell_type": "code",
   "execution_count": 23,
   "id": "549ca07a",
   "metadata": {},
   "outputs": [
    {
     "ename": "IndexError",
     "evalue": "single positional indexer is out-of-bounds",
     "output_type": "error",
     "traceback": [
      "\u001b[1;31m---------------------------------------------------------------------------\u001b[0m",
      "\u001b[1;31mIndexError\u001b[0m                                Traceback (most recent call last)",
      "Cell \u001b[1;32mIn[23], line 1\u001b[0m\n\u001b[1;32m----> 1\u001b[0m mydata\u001b[38;5;241m.\u001b[39miloc[\u001b[38;5;241m0\u001b[39m]\n",
      "File \u001b[1;32m~\\anaconda3\\Lib\\site-packages\\pandas\\core\\indexing.py:1103\u001b[0m, in \u001b[0;36m_LocationIndexer.__getitem__\u001b[1;34m(self, key)\u001b[0m\n\u001b[0;32m   1100\u001b[0m axis \u001b[38;5;241m=\u001b[39m \u001b[38;5;28mself\u001b[39m\u001b[38;5;241m.\u001b[39maxis \u001b[38;5;129;01mor\u001b[39;00m \u001b[38;5;241m0\u001b[39m\n\u001b[0;32m   1102\u001b[0m maybe_callable \u001b[38;5;241m=\u001b[39m com\u001b[38;5;241m.\u001b[39mapply_if_callable(key, \u001b[38;5;28mself\u001b[39m\u001b[38;5;241m.\u001b[39mobj)\n\u001b[1;32m-> 1103\u001b[0m \u001b[38;5;28;01mreturn\u001b[39;00m \u001b[38;5;28mself\u001b[39m\u001b[38;5;241m.\u001b[39m_getitem_axis(maybe_callable, axis\u001b[38;5;241m=\u001b[39maxis)\n",
      "File \u001b[1;32m~\\anaconda3\\Lib\\site-packages\\pandas\\core\\indexing.py:1656\u001b[0m, in \u001b[0;36m_iLocIndexer._getitem_axis\u001b[1;34m(self, key, axis)\u001b[0m\n\u001b[0;32m   1653\u001b[0m     \u001b[38;5;28;01mraise\u001b[39;00m \u001b[38;5;167;01mTypeError\u001b[39;00m(\u001b[38;5;124m\"\u001b[39m\u001b[38;5;124mCannot index by location index with a non-integer key\u001b[39m\u001b[38;5;124m\"\u001b[39m)\n\u001b[0;32m   1655\u001b[0m \u001b[38;5;66;03m# validate the location\u001b[39;00m\n\u001b[1;32m-> 1656\u001b[0m \u001b[38;5;28mself\u001b[39m\u001b[38;5;241m.\u001b[39m_validate_integer(key, axis)\n\u001b[0;32m   1658\u001b[0m \u001b[38;5;28;01mreturn\u001b[39;00m \u001b[38;5;28mself\u001b[39m\u001b[38;5;241m.\u001b[39mobj\u001b[38;5;241m.\u001b[39m_ixs(key, axis\u001b[38;5;241m=\u001b[39maxis)\n",
      "File \u001b[1;32m~\\anaconda3\\Lib\\site-packages\\pandas\\core\\indexing.py:1589\u001b[0m, in \u001b[0;36m_iLocIndexer._validate_integer\u001b[1;34m(self, key, axis)\u001b[0m\n\u001b[0;32m   1587\u001b[0m len_axis \u001b[38;5;241m=\u001b[39m \u001b[38;5;28mlen\u001b[39m(\u001b[38;5;28mself\u001b[39m\u001b[38;5;241m.\u001b[39mobj\u001b[38;5;241m.\u001b[39m_get_axis(axis))\n\u001b[0;32m   1588\u001b[0m \u001b[38;5;28;01mif\u001b[39;00m key \u001b[38;5;241m>\u001b[39m\u001b[38;5;241m=\u001b[39m len_axis \u001b[38;5;129;01mor\u001b[39;00m key \u001b[38;5;241m<\u001b[39m \u001b[38;5;241m-\u001b[39mlen_axis:\n\u001b[1;32m-> 1589\u001b[0m     \u001b[38;5;28;01mraise\u001b[39;00m \u001b[38;5;167;01mIndexError\u001b[39;00m(\u001b[38;5;124m\"\u001b[39m\u001b[38;5;124msingle positional indexer is out-of-bounds\u001b[39m\u001b[38;5;124m\"\u001b[39m)\n",
      "\u001b[1;31mIndexError\u001b[0m: single positional indexer is out-of-bounds"
     ]
    }
   ],
   "source": [
    "mydata.iloc[0] #gives the 1st row of data in the dataframe"
   ]
  },
  {
   "cell_type": "code",
   "execution_count": null,
   "id": "929db3f2",
   "metadata": {},
   "outputs": [],
   "source": [
    "(mydata/mydata.iloc[0]*100).plot(figsize=(15,6))"
   ]
  },
  {
   "cell_type": "code",
   "execution_count": null,
   "id": "9d1a98e7",
   "metadata": {},
   "outputs": [],
   "source": [
    "returns = (mydata/mydata.shift(1)) - 1\n",
    "returns"
   ]
  },
  {
   "cell_type": "code",
   "execution_count": null,
   "id": "650119cb",
   "metadata": {},
   "outputs": [],
   "source": [
    "weight = np.array([0.25,0.25,0.25,0.25]) "
   ]
  },
  {
   "cell_type": "code",
   "execution_count": null,
   "id": "204256cf",
   "metadata": {},
   "outputs": [],
   "source": [
    "np.dot(returns,weight) # Average rate of return"
   ]
  },
  {
   "cell_type": "code",
   "execution_count": null,
   "id": "9277c987",
   "metadata": {},
   "outputs": [],
   "source": [
    "annual_returns = returns.mean()*250"
   ]
  },
  {
   "cell_type": "code",
   "execution_count": null,
   "id": "67ea9fba",
   "metadata": {},
   "outputs": [],
   "source": [
    "pfolio_1 = str(round(np.dot(annual_returns,weight),5)*100)+'%'"
   ]
  },
  {
   "cell_type": "code",
   "execution_count": null,
   "id": "fadcc087",
   "metadata": {},
   "outputs": [],
   "source": [
    "pfolio_1"
   ]
  },
  {
   "cell_type": "code",
   "execution_count": null,
   "id": "b29b83bb",
   "metadata": {},
   "outputs": [],
   "source": [
    "weight_2 = np.array([0.4,0.4,0.15,0.05])"
   ]
  },
  {
   "cell_type": "code",
   "execution_count": null,
   "id": "ff7fd41c",
   "metadata": {},
   "outputs": [],
   "source": [
    "pfolio_2 = str(round(np.dot(annual_returns,weight_2),5)*100)+'%'\n",
    "\n",
    "print(pfolio_1)\n",
    "print(pfolio_2)"
   ]
  },
  {
   "cell_type": "raw",
   "id": "071bb72b",
   "metadata": {},
   "source": [
    "# RATE OF RETURN OF INDICES"
   ]
  },
  {
   "cell_type": "code",
   "execution_count": null,
   "id": "3b1c1845",
   "metadata": {},
   "outputs": [],
   "source": [
    "itickers = ['^GSPC','^IXIC','^GDAXI','^FTSE']\n",
    "ind_data = pd.DataFrame()\n",
    "\n",
    "for t in itickers:\n",
    "    ind_data[t] = data.history(start = '1997-01-01')['Close'] #filling the dataframe with close data\n",
    "    \n",
    "    "
   ]
  },
  {
   "cell_type": "code",
   "execution_count": null,
   "id": "62ba9c4f",
   "metadata": {},
   "outputs": [],
   "source": [
    "ind_data"
   ]
  },
  {
   "cell_type": "code",
   "execution_count": null,
   "id": "e7e361bb",
   "metadata": {},
   "outputs": [],
   "source": [
    " (ind_data/ind_data.iloc[0]).plot(figsize =(15,6))"
   ]
  },
  {
   "cell_type": "code",
   "execution_count": null,
   "id": "61f1121e",
   "metadata": {},
   "outputs": [],
   "source": []
  }
 ],
 "metadata": {
  "kernelspec": {
   "display_name": "Python 3 (ipykernel)",
   "language": "python",
   "name": "python3"
  },
  "language_info": {
   "codemirror_mode": {
    "name": "ipython",
    "version": 3
   },
   "file_extension": ".py",
   "mimetype": "text/x-python",
   "name": "python",
   "nbconvert_exporter": "python",
   "pygments_lexer": "ipython3",
   "version": "3.11.5"
  }
 },
 "nbformat": 4,
 "nbformat_minor": 5
}
