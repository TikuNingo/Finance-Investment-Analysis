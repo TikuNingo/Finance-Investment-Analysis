{
 "cells": [
  {
   "cell_type": "code",
   "execution_count": 1,
   "id": "f10cacf6",
   "metadata": {},
   "outputs": [],
   "source": [
    "import numpy as np\n",
    "import matplotlib.pyplot as plt\n",
    "import pandas as pd\n",
    "import yfinance as yf"
   ]
  },
  {
   "cell_type": "code",
   "execution_count": 2,
   "id": "335a0fca",
   "metadata": {},
   "outputs": [],
   "source": [
    "tickers = ['PG','XOM']\n",
    "sec_data = pd.DataFrame()"
   ]
  },
  {
   "cell_type": "code",
   "execution_count": 3,
   "id": "d088043a",
   "metadata": {},
   "outputs": [],
   "source": [
    "for t in tickers:\n",
    "    data = yf.Ticker(t)\n",
    "    sec_data[t] = data.history(start = '2004-01-01')['Close']"
   ]
  },
  {
   "cell_type": "code",
   "execution_count": 4,
   "id": "8a352e74",
   "metadata": {},
   "outputs": [
    {
     "data": {
      "text/html": [
       "<div>\n",
       "<style scoped>\n",
       "    .dataframe tbody tr th:only-of-type {\n",
       "        vertical-align: middle;\n",
       "    }\n",
       "\n",
       "    .dataframe tbody tr th {\n",
       "        vertical-align: top;\n",
       "    }\n",
       "\n",
       "    .dataframe thead th {\n",
       "        text-align: right;\n",
       "    }\n",
       "</style>\n",
       "<table border=\"1\" class=\"dataframe\">\n",
       "  <thead>\n",
       "    <tr style=\"text-align: right;\">\n",
       "      <th></th>\n",
       "      <th>PG</th>\n",
       "      <th>XOM</th>\n",
       "    </tr>\n",
       "    <tr>\n",
       "      <th>Date</th>\n",
       "      <th></th>\n",
       "      <th></th>\n",
       "    </tr>\n",
       "  </thead>\n",
       "  <tbody>\n",
       "    <tr>\n",
       "      <th>2004-01-02 00:00:00-05:00</th>\n",
       "      <td>28.420401</td>\n",
       "      <td>21.118952</td>\n",
       "    </tr>\n",
       "    <tr>\n",
       "      <th>2004-01-05 00:00:00-05:00</th>\n",
       "      <td>28.561085</td>\n",
       "      <td>21.612753</td>\n",
       "    </tr>\n",
       "    <tr>\n",
       "      <th>2004-01-06 00:00:00-05:00</th>\n",
       "      <td>28.417532</td>\n",
       "      <td>21.467207</td>\n",
       "    </tr>\n",
       "    <tr>\n",
       "      <th>2004-01-07 00:00:00-05:00</th>\n",
       "      <td>28.164883</td>\n",
       "      <td>21.311270</td>\n",
       "    </tr>\n",
       "    <tr>\n",
       "      <th>2004-01-08 00:00:00-05:00</th>\n",
       "      <td>28.460598</td>\n",
       "      <td>21.259285</td>\n",
       "    </tr>\n",
       "    <tr>\n",
       "      <th>...</th>\n",
       "      <td>...</td>\n",
       "      <td>...</td>\n",
       "    </tr>\n",
       "    <tr>\n",
       "      <th>2024-01-17 00:00:00-05:00</th>\n",
       "      <td>148.999008</td>\n",
       "      <td>96.980003</td>\n",
       "    </tr>\n",
       "    <tr>\n",
       "      <th>2024-01-18 00:00:00-05:00</th>\n",
       "      <td>148.139999</td>\n",
       "      <td>96.800003</td>\n",
       "    </tr>\n",
       "    <tr>\n",
       "      <th>2024-01-19 00:00:00-05:00</th>\n",
       "      <td>147.570007</td>\n",
       "      <td>96.949997</td>\n",
       "    </tr>\n",
       "    <tr>\n",
       "      <th>2024-01-22 00:00:00-05:00</th>\n",
       "      <td>147.860001</td>\n",
       "      <td>96.820000</td>\n",
       "    </tr>\n",
       "    <tr>\n",
       "      <th>2024-01-23 00:00:00-05:00</th>\n",
       "      <td>153.979996</td>\n",
       "      <td>97.910004</td>\n",
       "    </tr>\n",
       "  </tbody>\n",
       "</table>\n",
       "<p>5048 rows × 2 columns</p>\n",
       "</div>"
      ],
      "text/plain": [
       "                                   PG        XOM\n",
       "Date                                            \n",
       "2004-01-02 00:00:00-05:00   28.420401  21.118952\n",
       "2004-01-05 00:00:00-05:00   28.561085  21.612753\n",
       "2004-01-06 00:00:00-05:00   28.417532  21.467207\n",
       "2004-01-07 00:00:00-05:00   28.164883  21.311270\n",
       "2004-01-08 00:00:00-05:00   28.460598  21.259285\n",
       "...                               ...        ...\n",
       "2024-01-17 00:00:00-05:00  148.999008  96.980003\n",
       "2024-01-18 00:00:00-05:00  148.139999  96.800003\n",
       "2024-01-19 00:00:00-05:00  147.570007  96.949997\n",
       "2024-01-22 00:00:00-05:00  147.860001  96.820000\n",
       "2024-01-23 00:00:00-05:00  153.979996  97.910004\n",
       "\n",
       "[5048 rows x 2 columns]"
      ]
     },
     "execution_count": 4,
     "metadata": {},
     "output_type": "execute_result"
    }
   ],
   "source": [
    "sec_data"
   ]
  },
  {
   "cell_type": "code",
   "execution_count": 5,
   "id": "7f0f61ed",
   "metadata": {
    "scrolled": true
   },
   "outputs": [
    {
     "data": {
      "text/html": [
       "<div>\n",
       "<style scoped>\n",
       "    .dataframe tbody tr th:only-of-type {\n",
       "        vertical-align: middle;\n",
       "    }\n",
       "\n",
       "    .dataframe tbody tr th {\n",
       "        vertical-align: top;\n",
       "    }\n",
       "\n",
       "    .dataframe thead th {\n",
       "        text-align: right;\n",
       "    }\n",
       "</style>\n",
       "<table border=\"1\" class=\"dataframe\">\n",
       "  <thead>\n",
       "    <tr style=\"text-align: right;\">\n",
       "      <th></th>\n",
       "      <th>PG</th>\n",
       "      <th>XOM</th>\n",
       "    </tr>\n",
       "    <tr>\n",
       "      <th>Date</th>\n",
       "      <th></th>\n",
       "      <th></th>\n",
       "    </tr>\n",
       "  </thead>\n",
       "  <tbody>\n",
       "    <tr>\n",
       "      <th>2004-01-02 00:00:00-05:00</th>\n",
       "      <td>NaN</td>\n",
       "      <td>NaN</td>\n",
       "    </tr>\n",
       "    <tr>\n",
       "      <th>2004-01-05 00:00:00-05:00</th>\n",
       "      <td>0.004938</td>\n",
       "      <td>0.023113</td>\n",
       "    </tr>\n",
       "    <tr>\n",
       "      <th>2004-01-06 00:00:00-05:00</th>\n",
       "      <td>-0.005039</td>\n",
       "      <td>-0.006757</td>\n",
       "    </tr>\n",
       "    <tr>\n",
       "      <th>2004-01-07 00:00:00-05:00</th>\n",
       "      <td>-0.008930</td>\n",
       "      <td>-0.007290</td>\n",
       "    </tr>\n",
       "    <tr>\n",
       "      <th>2004-01-08 00:00:00-05:00</th>\n",
       "      <td>0.010445</td>\n",
       "      <td>-0.002442</td>\n",
       "    </tr>\n",
       "    <tr>\n",
       "      <th>...</th>\n",
       "      <td>...</td>\n",
       "      <td>...</td>\n",
       "    </tr>\n",
       "    <tr>\n",
       "      <th>2024-01-17 00:00:00-05:00</th>\n",
       "      <td>0.001001</td>\n",
       "      <td>-0.007294</td>\n",
       "    </tr>\n",
       "    <tr>\n",
       "      <th>2024-01-18 00:00:00-05:00</th>\n",
       "      <td>-0.005782</td>\n",
       "      <td>-0.001858</td>\n",
       "    </tr>\n",
       "    <tr>\n",
       "      <th>2024-01-19 00:00:00-05:00</th>\n",
       "      <td>-0.003855</td>\n",
       "      <td>0.001548</td>\n",
       "    </tr>\n",
       "    <tr>\n",
       "      <th>2024-01-22 00:00:00-05:00</th>\n",
       "      <td>0.001963</td>\n",
       "      <td>-0.001342</td>\n",
       "    </tr>\n",
       "    <tr>\n",
       "      <th>2024-01-23 00:00:00-05:00</th>\n",
       "      <td>0.040557</td>\n",
       "      <td>0.011195</td>\n",
       "    </tr>\n",
       "  </tbody>\n",
       "</table>\n",
       "<p>5048 rows × 2 columns</p>\n",
       "</div>"
      ],
      "text/plain": [
       "                                 PG       XOM\n",
       "Date                                         \n",
       "2004-01-02 00:00:00-05:00       NaN       NaN\n",
       "2004-01-05 00:00:00-05:00  0.004938  0.023113\n",
       "2004-01-06 00:00:00-05:00 -0.005039 -0.006757\n",
       "2004-01-07 00:00:00-05:00 -0.008930 -0.007290\n",
       "2004-01-08 00:00:00-05:00  0.010445 -0.002442\n",
       "...                             ...       ...\n",
       "2024-01-17 00:00:00-05:00  0.001001 -0.007294\n",
       "2024-01-18 00:00:00-05:00 -0.005782 -0.001858\n",
       "2024-01-19 00:00:00-05:00 -0.003855  0.001548\n",
       "2024-01-22 00:00:00-05:00  0.001963 -0.001342\n",
       "2024-01-23 00:00:00-05:00  0.040557  0.011195\n",
       "\n",
       "[5048 rows x 2 columns]"
      ]
     },
     "execution_count": 5,
     "metadata": {},
     "output_type": "execute_result"
    }
   ],
   "source": [
    "  sec_returns = np.log(sec_data / sec_data.shift(1)) # calculating the Log returns\n",
    "sec_returnsd"
   ]
  },
  {
   "cell_type": "code",
   "execution_count": 6,
   "id": "15bda791",
   "metadata": {},
   "outputs": [],
   "source": [
    "# PG"
   ]
  },
  {
   "cell_type": "code",
   "execution_count": 7,
   "id": "64488ba5",
   "metadata": {},
   "outputs": [
    {
     "data": {
      "text/plain": [
       "0.00033479601290664065"
      ]
     },
     "execution_count": 7,
     "metadata": {},
     "output_type": "execute_result"
    }
   ],
   "source": [
    " sec_returns['PG'].mean() # daily Average rate of return"
   ]
  },
  {
   "cell_type": "code",
   "execution_count": 8,
   "id": "bbd98520",
   "metadata": {},
   "outputs": [
    {
     "data": {
      "text/plain": [
       "0.08369900322666016"
      ]
     },
     "execution_count": 8,
     "metadata": {},
     "output_type": "execute_result"
    }
   ],
   "source": [
    "sec_returns['PG'].mean() * 250 #Yearly Average return"
   ]
  },
  {
   "cell_type": "code",
   "execution_count": 9,
   "id": "682dbf10",
   "metadata": {},
   "outputs": [
    {
     "data": {
      "text/plain": [
       "0.011354451769479464"
      ]
     },
     "execution_count": 9,
     "metadata": {},
     "output_type": "execute_result"
    }
   ],
   "source": [
    "sec_returns['PG'].std() # standard devaition of PG"
   ]
  },
  {
   "cell_type": "code",
   "execution_count": 10,
   "id": "7b0c10c9",
   "metadata": {},
   "outputs": [
    {
     "data": {
      "text/plain": [
       "0.17952964587042117"
      ]
     },
     "execution_count": 10,
     "metadata": {},
     "output_type": "execute_result"
    }
   ],
   "source": [
    "sec_returns['PG'].std() * 250 ** 0.5 # Yearly standard devaition"
   ]
  },
  {
   "cell_type": "code",
   "execution_count": 11,
   "id": "58ac95d1",
   "metadata": {},
   "outputs": [],
   "source": [
    " # XOM "
   ]
  },
  {
   "cell_type": "code",
   "execution_count": 12,
   "id": "e6762503",
   "metadata": {},
   "outputs": [
    {
     "data": {
      "text/plain": [
       "0.000303918743800923"
      ]
     },
     "execution_count": 12,
     "metadata": {},
     "output_type": "execute_result"
    }
   ],
   "source": [
    "sec_returns['XOM'].mean()"
   ]
  },
  {
   "cell_type": "code",
   "execution_count": 13,
   "id": "1f417059",
   "metadata": {},
   "outputs": [
    {
     "data": {
      "text/plain": [
       "0.07597968595023075"
      ]
     },
     "execution_count": 13,
     "metadata": {},
     "output_type": "execute_result"
    }
   ],
   "source": [
    "sec_returns['XOM'].mean() * 250"
   ]
  },
  {
   "cell_type": "code",
   "execution_count": 14,
   "id": "df18c97b",
   "metadata": {},
   "outputs": [
    {
     "data": {
      "text/plain": [
       "0.01665883227517367"
      ]
     },
     "execution_count": 14,
     "metadata": {},
     "output_type": "execute_result"
    }
   ],
   "source": [
    "sec_returns['XOM'].std()"
   ]
  },
  {
   "cell_type": "code",
   "execution_count": 15,
   "id": "f1d8e337",
   "metadata": {},
   "outputs": [
    {
     "data": {
      "text/plain": [
       "PG     0.083699\n",
       "XOM    0.075980\n",
       "dtype: float64"
      ]
     },
     "execution_count": 15,
     "metadata": {},
     "output_type": "execute_result"
    }
   ],
   "source": [
    "sec_returns[['PG','XOM']].mean()*250 # to get to means in one array, you need to enclose the dataframe's indexes in 2 brackets"
   ]
  },
  {
   "cell_type": "code",
   "execution_count": 16,
   "id": "748fd38a",
   "metadata": {},
   "outputs": [
    {
     "data": {
      "text/plain": [
       "PG     0.179530\n",
       "XOM    0.263399\n",
       "dtype: float64"
      ]
     },
     "execution_count": 16,
     "metadata": {},
     "output_type": "execute_result"
    }
   ],
   "source": [
    "sec_returns[['PG','XOM']].std()*250**0.5 "
   ]
  },
  {
   "cell_type": "code",
   "execution_count": 17,
   "id": "3b44f222",
   "metadata": {},
   "outputs": [],
   "source": [
    "# COVARIANCE AND CORRELATION"
   ]
  },
  {
   "cell_type": "code",
   "execution_count": 18,
   "id": "84554b11",
   "metadata": {},
   "outputs": [
    {
     "data": {
      "text/plain": [
       "0.00012892357498543532"
      ]
     },
     "execution_count": 18,
     "metadata": {},
     "output_type": "execute_result"
    }
   ],
   "source": [
    " PG_var= sec_returns['PG'].var() # daily calculating the variance of PG\n",
    " PG_var"
   ]
  },
  {
   "cell_type": "code",
   "execution_count": 19,
   "id": "57766f58",
   "metadata": {},
   "outputs": [
    {
     "data": {
      "text/plain": [
       "0.00027751669277236796"
      ]
     },
     "execution_count": 19,
     "metadata": {},
     "output_type": "execute_result"
    }
   ],
   "source": [
    "XOM_var = sec_returns['XOM'].var()\n",
    "XOM_var"
   ]
  },
  {
   "cell_type": "code",
   "execution_count": 20,
   "id": "f5fbc225",
   "metadata": {},
   "outputs": [
    {
     "data": {
      "text/plain": [
       "0.03223089374635883"
      ]
     },
     "execution_count": 20,
     "metadata": {},
     "output_type": "execute_result"
    }
   ],
   "source": [
    " PG_var_a= sec_returns['PG'].var() * 250 #calculating the yearly variance of PG\n",
    " PG_var_a"
   ]
  },
  {
   "cell_type": "code",
   "execution_count": 21,
   "id": "77466026",
   "metadata": {},
   "outputs": [
    {
     "data": {
      "text/plain": [
       "0.06937917319309199"
      ]
     },
     "execution_count": 21,
     "metadata": {},
     "output_type": "execute_result"
    }
   ],
   "source": [
    "XOM_var_a = sec_returns['XOM'].var() * 250\n",
    "XOM_var_a"
   ]
  },
  {
   "cell_type": "code",
   "execution_count": 22,
   "id": "3d21cf86",
   "metadata": {},
   "outputs": [
    {
     "data": {
      "text/html": [
       "<div>\n",
       "<style scoped>\n",
       "    .dataframe tbody tr th:only-of-type {\n",
       "        vertical-align: middle;\n",
       "    }\n",
       "\n",
       "    .dataframe tbody tr th {\n",
       "        vertical-align: top;\n",
       "    }\n",
       "\n",
       "    .dataframe thead th {\n",
       "        text-align: right;\n",
       "    }\n",
       "</style>\n",
       "<table border=\"1\" class=\"dataframe\">\n",
       "  <thead>\n",
       "    <tr style=\"text-align: right;\">\n",
       "      <th></th>\n",
       "      <th>PG</th>\n",
       "      <th>XOM</th>\n",
       "    </tr>\n",
       "  </thead>\n",
       "  <tbody>\n",
       "    <tr>\n",
       "      <th>PG</th>\n",
       "      <td>0.000129</td>\n",
       "      <td>0.000076</td>\n",
       "    </tr>\n",
       "    <tr>\n",
       "      <th>XOM</th>\n",
       "      <td>0.000076</td>\n",
       "      <td>0.000278</td>\n",
       "    </tr>\n",
       "  </tbody>\n",
       "</table>\n",
       "</div>"
      ],
      "text/plain": [
       "           PG       XOM\n",
       "PG   0.000129  0.000076\n",
       "XOM  0.000076  0.000278"
      ]
     },
     "execution_count": 22,
     "metadata": {},
     "output_type": "execute_result"
    }
   ],
   "source": [
    "cov_matrix = sec_returns.cov() # calculating the covariance of PG and XOM .. this is .00000076. 000.0000129 represent the variance of PG while .000278 represence the variance of XOM\n",
    "cov_matrix"
   ]
  },
  {
   "cell_type": "code",
   "execution_count": 23,
   "id": "4a3bcb52",
   "metadata": {},
   "outputs": [
    {
     "data": {
      "text/html": [
       "<div>\n",
       "<style scoped>\n",
       "    .dataframe tbody tr th:only-of-type {\n",
       "        vertical-align: middle;\n",
       "    }\n",
       "\n",
       "    .dataframe tbody tr th {\n",
       "        vertical-align: top;\n",
       "    }\n",
       "\n",
       "    .dataframe thead th {\n",
       "        text-align: right;\n",
       "    }\n",
       "</style>\n",
       "<table border=\"1\" class=\"dataframe\">\n",
       "  <thead>\n",
       "    <tr style=\"text-align: right;\">\n",
       "      <th></th>\n",
       "      <th>PG</th>\n",
       "      <th>XOM</th>\n",
       "    </tr>\n",
       "  </thead>\n",
       "  <tbody>\n",
       "    <tr>\n",
       "      <th>PG</th>\n",
       "      <td>0.032231</td>\n",
       "      <td>0.019032</td>\n",
       "    </tr>\n",
       "    <tr>\n",
       "      <th>XOM</th>\n",
       "      <td>0.019032</td>\n",
       "      <td>0.069379</td>\n",
       "    </tr>\n",
       "  </tbody>\n",
       "</table>\n",
       "</div>"
      ],
      "text/plain": [
       "           PG       XOM\n",
       "PG   0.032231  0.019032\n",
       "XOM  0.019032  0.069379"
      ]
     },
     "execution_count": 23,
     "metadata": {},
     "output_type": "execute_result"
    }
   ],
   "source": [
    "cov_matrix_a = sec_returns.cov() * 250 # calculating annual covariance\n",
    "cov_matrix_a"
   ]
  },
  {
   "cell_type": "code",
   "execution_count": 24,
   "id": "771b35b8",
   "metadata": {},
   "outputs": [
    {
     "data": {
      "text/html": [
       "<div>\n",
       "<style scoped>\n",
       "    .dataframe tbody tr th:only-of-type {\n",
       "        vertical-align: middle;\n",
       "    }\n",
       "\n",
       "    .dataframe tbody tr th {\n",
       "        vertical-align: top;\n",
       "    }\n",
       "\n",
       "    .dataframe thead th {\n",
       "        text-align: right;\n",
       "    }\n",
       "</style>\n",
       "<table border=\"1\" class=\"dataframe\">\n",
       "  <thead>\n",
       "    <tr style=\"text-align: right;\">\n",
       "      <th></th>\n",
       "      <th>PG</th>\n",
       "      <th>XOM</th>\n",
       "    </tr>\n",
       "  </thead>\n",
       "  <tbody>\n",
       "    <tr>\n",
       "      <th>PG</th>\n",
       "      <td>1.000000</td>\n",
       "      <td>0.402465</td>\n",
       "    </tr>\n",
       "    <tr>\n",
       "      <th>XOM</th>\n",
       "      <td>0.402465</td>\n",
       "      <td>1.000000</td>\n",
       "    </tr>\n",
       "  </tbody>\n",
       "</table>\n",
       "</div>"
      ],
      "text/plain": [
       "           PG       XOM\n",
       "PG   1.000000  0.402465\n",
       "XOM  0.402465  1.000000"
      ]
     },
     "execution_count": 24,
     "metadata": {},
     "output_type": "execute_result"
    }
   ],
   "source": [
    "corr_matrix = sec_returns.corr() # Correllation of PG and XOM. P.S: we do not annualize correlation.\n",
    "corr_matrix"
   ]
  },
  {
   "cell_type": "code",
   "execution_count": 25,
   "id": "b1d47692",
   "metadata": {},
   "outputs": [],
   "source": [
    "#CALUCATING PORTFOLIO RISK"
   ]
  },
  {
   "cell_type": "code",
   "execution_count": 26,
   "id": "1c5d053e",
   "metadata": {},
   "outputs": [],
   "source": [
    " weights = np.array([0.5,0.5])"
   ]
  },
  {
   "cell_type": "code",
   "execution_count": 39,
   "id": "003f35ea",
   "metadata": {},
   "outputs": [
    {
     "data": {
      "text/plain": [
       "0.034918385555477584"
      ]
     },
     "execution_count": 39,
     "metadata": {},
     "output_type": "execute_result"
    }
   ],
   "source": [
    "pfolio_var = np.dot(weights.T,np.dot(sec_returns.cov()* 250,weights)) #porfolio_variance\n",
    "pfolio_var"
   ]
  },
  {
   "cell_type": "code",
   "execution_count": 28,
   "id": "caec97f6",
   "metadata": {},
   "outputs": [
    {
     "data": {
      "text/plain": [
       "0.18686461825470754"
      ]
     },
     "execution_count": 28,
     "metadata": {},
     "output_type": "execute_result"
    }
   ],
   "source": [
    "pfolio_vol = (np.dot(weights.T,np.dot(sec_returns.cov()* 250,weights))) ** 0.5 #portfolio Volatility \n",
    "pfolio_vol"
   ]
  },
  {
   "cell_type": "code",
   "execution_count": 29,
   "id": "c73f5c6d",
   "metadata": {},
   "outputs": [],
   "source": [
    "# Calculating diversifiable and Non-diversifiable risk of a portfolio"
   ]
  },
  {
   "cell_type": "code",
   "execution_count": 30,
   "id": "68e24f86",
   "metadata": {},
   "outputs": [],
   "source": [
    "weights = np.array([0.5,0.5])"
   ]
  },
  {
   "cell_type": "code",
   "execution_count": 34,
   "id": "cd0efdcc",
   "metadata": {},
   "outputs": [
    {
     "data": {
      "text/plain": [
       "0.03223089374635883"
      ]
     },
     "execution_count": 34,
     "metadata": {},
     "output_type": "execute_result"
    }
   ],
   "source": [
    "PG_var_a = sec_returns['PG'].var() * 250\n",
    "PG_var_a"
   ]
  },
  {
   "cell_type": "code",
   "execution_count": 35,
   "id": "e4460afd",
   "metadata": {},
   "outputs": [
    {
     "data": {
      "text/plain": [
       "0.06937917319309199"
      ]
     },
     "execution_count": 35,
     "metadata": {},
     "output_type": "execute_result"
    }
   ],
   "source": [
    "XOM_var_a = sec_returns['XOM'].var() * 250\n",
    "XOM_var_a"
   ]
  },
  {
   "cell_type": "code",
   "execution_count": 37,
   "id": "26a77d34",
   "metadata": {},
   "outputs": [
    {
     "data": {
      "text/plain": [
       "0.009515868820614878"
      ]
     },
     "execution_count": 37,
     "metadata": {},
     "output_type": "execute_result"
    }
   ],
   "source": [
    "dr = pfolio_var - (weights[0]**2*PG_var_a) - (weights[1] ** 2 * XOM_var_a)\n",
    "dr"
   ]
  },
  {
   "cell_type": "code",
   "execution_count": 38,
   "id": "c24bdbe0",
   "metadata": {},
   "outputs": [
    {
     "data": {
      "text/plain": [
       "0.025402516734862705"
      ]
     },
     "execution_count": 38,
     "metadata": {},
     "output_type": "execute_result"
    }
   ],
   "source": [
    "pfolio_var - dr"
   ]
  },
  {
   "cell_type": "code",
   "execution_count": null,
   "id": "ace416bb",
   "metadata": {},
   "outputs": [],
   "source": []
  }
 ],
 "metadata": {
  "kernelspec": {
   "display_name": "Python 3 (ipykernel)",
   "language": "python",
   "name": "python3"
  },
  "language_info": {
   "codemirror_mode": {
    "name": "ipython",
    "version": 3
   },
   "file_extension": ".py",
   "mimetype": "text/x-python",
   "name": "python",
   "nbconvert_exporter": "python",
   "pygments_lexer": "ipython3",
   "version": "3.11.5"
  }
 },
 "nbformat": 4,
 "nbformat_minor": 5
}
