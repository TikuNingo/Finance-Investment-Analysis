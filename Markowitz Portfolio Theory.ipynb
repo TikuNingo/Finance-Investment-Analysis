{
 "cells": [
  {
   "cell_type": "code",
   "execution_count": 1,
   "id": "af580e35",
   "metadata": {},
   "outputs": [],
   "source": [
    "import numpy as np\n",
    "import pandas as pd\n",
    "from pandas_datareader import data as wb \n",
    "import matplotlib.pyplot as plt\n",
    "%matplotlib inline"
   ]
  },
  {
   "cell_type": "code",
   "execution_count": 2,
   "id": "551fb833",
   "metadata": {},
   "outputs": [],
   "source": [
    "import yfinance as yf"
   ]
  },
  {
   "cell_type": "code",
   "execution_count": 3,
   "id": "8b90833c",
   "metadata": {},
   "outputs": [],
   "source": [
    "assets = ['PG','^GSPC']\n",
    "pf_data = pd.DataFrame()\n",
    "\n",
    "for a in assets:\n",
    "    data = yf.Ticker(a)\n",
    "    pf_data[a] = data.history(start = '2014-01-01')['Close']"
   ]
  },
  {
   "cell_type": "code",
   "execution_count": 4,
   "id": "7a26ee38",
   "metadata": {},
   "outputs": [
    {
     "data": {
      "text/html": [
       "<div>\n",
       "<style scoped>\n",
       "    .dataframe tbody tr th:only-of-type {\n",
       "        vertical-align: middle;\n",
       "    }\n",
       "\n",
       "    .dataframe tbody tr th {\n",
       "        vertical-align: top;\n",
       "    }\n",
       "\n",
       "    .dataframe thead th {\n",
       "        text-align: right;\n",
       "    }\n",
       "</style>\n",
       "<table border=\"1\" class=\"dataframe\">\n",
       "  <thead>\n",
       "    <tr style=\"text-align: right;\">\n",
       "      <th></th>\n",
       "      <th>PG</th>\n",
       "      <th>^GSPC</th>\n",
       "    </tr>\n",
       "    <tr>\n",
       "      <th>Date</th>\n",
       "      <th></th>\n",
       "      <th></th>\n",
       "    </tr>\n",
       "  </thead>\n",
       "  <tbody>\n",
       "    <tr>\n",
       "      <th>2014-01-02 00:00:00-05:00</th>\n",
       "      <td>60.028873</td>\n",
       "      <td>1831.979980</td>\n",
       "    </tr>\n",
       "    <tr>\n",
       "      <th>2014-01-03 00:00:00-05:00</th>\n",
       "      <td>59.961796</td>\n",
       "      <td>1831.369995</td>\n",
       "    </tr>\n",
       "    <tr>\n",
       "      <th>2014-01-06 00:00:00-05:00</th>\n",
       "      <td>60.103394</td>\n",
       "      <td>1826.770020</td>\n",
       "    </tr>\n",
       "    <tr>\n",
       "      <th>2014-01-07 00:00:00-05:00</th>\n",
       "      <td>60.684776</td>\n",
       "      <td>1837.880005</td>\n",
       "    </tr>\n",
       "    <tr>\n",
       "      <th>2014-01-08 00:00:00-05:00</th>\n",
       "      <td>59.805256</td>\n",
       "      <td>1837.489990</td>\n",
       "    </tr>\n",
       "    <tr>\n",
       "      <th>...</th>\n",
       "      <td>...</td>\n",
       "      <td>...</td>\n",
       "    </tr>\n",
       "    <tr>\n",
       "      <th>2024-01-26 00:00:00-05:00</th>\n",
       "      <td>156.139999</td>\n",
       "      <td>4890.970215</td>\n",
       "    </tr>\n",
       "    <tr>\n",
       "      <th>2024-01-29 00:00:00-05:00</th>\n",
       "      <td>156.160004</td>\n",
       "      <td>4927.930176</td>\n",
       "    </tr>\n",
       "    <tr>\n",
       "      <th>2024-01-30 00:00:00-05:00</th>\n",
       "      <td>157.490005</td>\n",
       "      <td>4924.970215</td>\n",
       "    </tr>\n",
       "    <tr>\n",
       "      <th>2024-01-31 00:00:00-05:00</th>\n",
       "      <td>157.139999</td>\n",
       "      <td>4845.649902</td>\n",
       "    </tr>\n",
       "    <tr>\n",
       "      <th>2024-02-01 00:00:00-05:00</th>\n",
       "      <td>159.179993</td>\n",
       "      <td>4906.189941</td>\n",
       "    </tr>\n",
       "  </tbody>\n",
       "</table>\n",
       "<p>2538 rows × 2 columns</p>\n",
       "</div>"
      ],
      "text/plain": [
       "                                   PG        ^GSPC\n",
       "Date                                              \n",
       "2014-01-02 00:00:00-05:00   60.028873  1831.979980\n",
       "2014-01-03 00:00:00-05:00   59.961796  1831.369995\n",
       "2014-01-06 00:00:00-05:00   60.103394  1826.770020\n",
       "2014-01-07 00:00:00-05:00   60.684776  1837.880005\n",
       "2014-01-08 00:00:00-05:00   59.805256  1837.489990\n",
       "...                               ...          ...\n",
       "2024-01-26 00:00:00-05:00  156.139999  4890.970215\n",
       "2024-01-29 00:00:00-05:00  156.160004  4927.930176\n",
       "2024-01-30 00:00:00-05:00  157.490005  4924.970215\n",
       "2024-01-31 00:00:00-05:00  157.139999  4845.649902\n",
       "2024-02-01 00:00:00-05:00  159.179993  4906.189941\n",
       "\n",
       "[2538 rows x 2 columns]"
      ]
     },
     "execution_count": 4,
     "metadata": {},
     "output_type": "execute_result"
    }
   ],
   "source": [
    "pf_data"
   ]
  },
  {
   "cell_type": "code",
   "execution_count": 5,
   "id": "05f669e3",
   "metadata": {},
   "outputs": [
    {
     "data": {
      "text/html": [
       "<div>\n",
       "<style scoped>\n",
       "    .dataframe tbody tr th:only-of-type {\n",
       "        vertical-align: middle;\n",
       "    }\n",
       "\n",
       "    .dataframe tbody tr th {\n",
       "        vertical-align: top;\n",
       "    }\n",
       "\n",
       "    .dataframe thead th {\n",
       "        text-align: right;\n",
       "    }\n",
       "</style>\n",
       "<table border=\"1\" class=\"dataframe\">\n",
       "  <thead>\n",
       "    <tr style=\"text-align: right;\">\n",
       "      <th></th>\n",
       "      <th>PG</th>\n",
       "      <th>^GSPC</th>\n",
       "    </tr>\n",
       "    <tr>\n",
       "      <th>Date</th>\n",
       "      <th></th>\n",
       "      <th></th>\n",
       "    </tr>\n",
       "  </thead>\n",
       "  <tbody>\n",
       "    <tr>\n",
       "      <th>2024-01-26 00:00:00-05:00</th>\n",
       "      <td>156.139999</td>\n",
       "      <td>4890.970215</td>\n",
       "    </tr>\n",
       "    <tr>\n",
       "      <th>2024-01-29 00:00:00-05:00</th>\n",
       "      <td>156.160004</td>\n",
       "      <td>4927.930176</td>\n",
       "    </tr>\n",
       "    <tr>\n",
       "      <th>2024-01-30 00:00:00-05:00</th>\n",
       "      <td>157.490005</td>\n",
       "      <td>4924.970215</td>\n",
       "    </tr>\n",
       "    <tr>\n",
       "      <th>2024-01-31 00:00:00-05:00</th>\n",
       "      <td>157.139999</td>\n",
       "      <td>4845.649902</td>\n",
       "    </tr>\n",
       "    <tr>\n",
       "      <th>2024-02-01 00:00:00-05:00</th>\n",
       "      <td>159.179993</td>\n",
       "      <td>4906.189941</td>\n",
       "    </tr>\n",
       "  </tbody>\n",
       "</table>\n",
       "</div>"
      ],
      "text/plain": [
       "                                   PG        ^GSPC\n",
       "Date                                              \n",
       "2024-01-26 00:00:00-05:00  156.139999  4890.970215\n",
       "2024-01-29 00:00:00-05:00  156.160004  4927.930176\n",
       "2024-01-30 00:00:00-05:00  157.490005  4924.970215\n",
       "2024-01-31 00:00:00-05:00  157.139999  4845.649902\n",
       "2024-02-01 00:00:00-05:00  159.179993  4906.189941"
      ]
     },
     "execution_count": 5,
     "metadata": {},
     "output_type": "execute_result"
    }
   ],
   "source": [
    "pf_data.tail()"
   ]
  },
  {
   "cell_type": "code",
   "execution_count": 6,
   "id": "e99272ba",
   "metadata": {},
   "outputs": [
    {
     "data": {
      "text/plain": [
       "<Axes: xlabel='Date'>"
      ]
     },
     "execution_count": 6,
     "metadata": {},
     "output_type": "execute_result"
    },
    {
     "data": {
      "image/png": "[encoded data removed]",
      "text/plain": [
       "<Figure size 1000x500 with 1 Axes>"
      ]
     },
     "metadata": {},
     "output_type": "display_data"
    }
   ],
   "source": [
    "(pf_data/ pf_data.iloc[0] * 100).plot(figsize=(10,5))"
   ]
  },
  {
   "cell_type": "code",
   "execution_count": 7,
   "id": "e4daf0fe",
   "metadata": {},
   "outputs": [],
   "source": [
    "log_returns = np.log(pf_data/pf_data.shift(1))"
   ]
  },
  {
   "cell_type": "code",
   "execution_count": 8,
   "id": "2e7cea7b",
   "metadata": {},
   "outputs": [
    {
     "data": {
      "text/plain": [
       "PG       0.096099\n",
       "^GSPC    0.097073\n",
       "dtype: float64"
      ]
     },
     "execution_count": 8,
     "metadata": {},
     "output_type": "execute_result"
    }
   ],
   "source": [
    "log_returns.mean()*250"
   ]
  },
  {
   "cell_type": "code",
   "execution_count": 9,
   "id": "f61ccbd4",
   "metadata": {},
   "outputs": [
    {
     "data": {
      "text/html": [
       "<div>\n",
       "<style scoped>\n",
       "    .dataframe tbody tr th:only-of-type {\n",
       "        vertical-align: middle;\n",
       "    }\n",
       "\n",
       "    .dataframe tbody tr th {\n",
       "        vertical-align: top;\n",
       "    }\n",
       "\n",
       "    .dataframe thead th {\n",
       "        text-align: right;\n",
       "    }\n",
       "</style>\n",
       "<table border=\"1\" class=\"dataframe\">\n",
       "  <thead>\n",
       "    <tr style=\"text-align: right;\">\n",
       "      <th></th>\n",
       "      <th>PG</th>\n",
       "      <th>^GSPC</th>\n",
       "    </tr>\n",
       "  </thead>\n",
       "  <tbody>\n",
       "    <tr>\n",
       "      <th>PG</th>\n",
       "      <td>0.032933</td>\n",
       "      <td>0.017848</td>\n",
       "    </tr>\n",
       "    <tr>\n",
       "      <th>^GSPC</th>\n",
       "      <td>0.017848</td>\n",
       "      <td>0.031270</td>\n",
       "    </tr>\n",
       "  </tbody>\n",
       "</table>\n",
       "</div>"
      ],
      "text/plain": [
       "             PG     ^GSPC\n",
       "PG     0.032933  0.017848\n",
       "^GSPC  0.017848  0.031270"
      ]
     },
     "execution_count": 9,
     "metadata": {},
     "output_type": "execute_result"
    }
   ],
   "source": [
    "log_returns.cov()*250"
   ]
  },
  {
   "cell_type": "code",
   "execution_count": 10,
   "id": "6ac482a5",
   "metadata": {},
   "outputs": [
    {
     "data": {
      "text/html": [
       "<div>\n",
       "<style scoped>\n",
       "    .dataframe tbody tr th:only-of-type {\n",
       "        vertical-align: middle;\n",
       "    }\n",
       "\n",
       "    .dataframe tbody tr th {\n",
       "        vertical-align: top;\n",
       "    }\n",
       "\n",
       "    .dataframe thead th {\n",
       "        text-align: right;\n",
       "    }\n",
       "</style>\n",
       "<table border=\"1\" class=\"dataframe\">\n",
       "  <thead>\n",
       "    <tr style=\"text-align: right;\">\n",
       "      <th></th>\n",
       "      <th>PG</th>\n",
       "      <th>^GSPC</th>\n",
       "    </tr>\n",
       "  </thead>\n",
       "  <tbody>\n",
       "    <tr>\n",
       "      <th>PG</th>\n",
       "      <td>1.000000</td>\n",
       "      <td>0.556164</td>\n",
       "    </tr>\n",
       "    <tr>\n",
       "      <th>^GSPC</th>\n",
       "      <td>0.556164</td>\n",
       "      <td>1.000000</td>\n",
       "    </tr>\n",
       "  </tbody>\n",
       "</table>\n",
       "</div>"
      ],
      "text/plain": [
       "             PG     ^GSPC\n",
       "PG     1.000000  0.556164\n",
       "^GSPC  0.556164  1.000000"
      ]
     },
     "execution_count": 10,
     "metadata": {},
     "output_type": "execute_result"
    }
   ],
   "source": [
    "log_returns.corr()"
   ]
  },
  {
   "cell_type": "code",
   "execution_count": 11,
   "id": "fa904ec0",
   "metadata": {},
   "outputs": [
    {
     "data": {
      "text/plain": [
       "2"
      ]
     },
     "execution_count": 11,
     "metadata": {},
     "output_type": "execute_result"
    }
   ],
   "source": [
    "num_assets = len(assets)\n",
    "num_assets"
   ]
  },
  {
   "cell_type": "code",
   "execution_count": 12,
   "id": "9ae294f1",
   "metadata": {},
   "outputs": [
    {
     "data": {
      "text/plain": [
       "array([0.76340472, 0.65874865])"
      ]
     },
     "execution_count": 12,
     "metadata": {},
     "output_type": "execute_result"
    }
   ],
   "source": [
    "arr = np.random.random(2)\n",
    "arr"
   ]
  },
  {
   "cell_type": "code",
   "execution_count": 13,
   "id": "c0ec7bbb",
   "metadata": {},
   "outputs": [
    {
     "data": {
      "text/plain": [
       "1.422153365034799"
      ]
     },
     "execution_count": 13,
     "metadata": {},
     "output_type": "execute_result"
    }
   ],
   "source": [
    "arr[0] + arr[1]"
   ]
  },
  {
   "cell_type": "code",
   "execution_count": 14,
   "id": "bb58ed6b",
   "metadata": {},
   "outputs": [
    {
     "data": {
      "text/plain": [
       "array([0.26170651, 0.73829349])"
      ]
     },
     "execution_count": 14,
     "metadata": {},
     "output_type": "execute_result"
    }
   ],
   "source": [
    "weights = np.random.random(num_assets)\n",
    "weights /= np.sum(weights)\n",
    "weights"
   ]
  },
  {
   "cell_type": "code",
   "execution_count": 15,
   "id": "b1aa97a5",
   "metadata": {},
   "outputs": [],
   "source": [
    "Portfolio_returns = np.sum(weights * log_returns.mean()) * 250 # Expected Portfolio Return"
   ]
  },
  {
   "cell_type": "code",
   "execution_count": 16,
   "id": "225d7263",
   "metadata": {},
   "outputs": [
    {
     "data": {
      "text/plain": [
       "0.026197050942191533"
      ]
     },
     "execution_count": 16,
     "metadata": {},
     "output_type": "execute_result"
    }
   ],
   "source": [
    "np.dot(weights.T, np.dot(log_returns.cov()*250, weights))"
   ]
  },
  {
   "cell_type": "code",
   "execution_count": 17,
   "id": "dcf7ec3d",
   "metadata": {},
   "outputs": [],
   "source": [
    " portfolio_volatility = np.sqrt(np.dot(weights.T, np.dot(log_returns.cov()*250, weights))) # Porfolio Volatility(risk)"
   ]
  },
  {
   "cell_type": "code",
   "execution_count": 18,
   "id": "89838891",
   "metadata": {},
   "outputs": [],
   "source": [
    "pfolio_returns = []\n",
    "pfolio_volatility = []\n",
    "\n",
    "for x in range(1000):\n",
    "    weights = np.random.random(num_assets)\n",
    "    weights /= np.sum(weights)\n",
    "    pfolio_returns.append(Portfolio_returns)\n",
    "    pfolio_volatility.append(portfolio_volatility)\n",
    "    \n",
    "    \n",
    "pfolio_returns = np.array(pfolio_returns)\n",
    "pfolio_volatility = np.array(pfolio_volatility)\n",
    "    "
   ]
  },
  {
   "cell_type": "code",
   "execution_count": 19,
   "id": "393519ed",
   "metadata": {},
   "outputs": [
    {
     "data": {
      "text/plain": [
       "(array([0.09681828, 0.09681828, 0.09681828, 0.09681828, 0.09681828,\n",
       "        0.09681828, 0.09681828, 0.09681828, 0.09681828, 0.09681828,\n",
       "        0.09681828, 0.09681828, 0.09681828, 0.09681828, 0.09681828,\n",
       "        0.09681828, 0.09681828, 0.09681828, 0.09681828, 0.09681828,\n",
       "        0.09681828, 0.09681828, 0.09681828, 0.09681828, 0.09681828,\n",
       "        0.09681828, 0.09681828, 0.09681828, 0.09681828, 0.09681828,\n",
       "        0.09681828, 0.09681828, 0.09681828, 0.09681828, 0.09681828,\n",
       "        0.09681828, 0.09681828, 0.09681828, 0.09681828, 0.09681828,\n",
       "        0.09681828, 0.09681828, 0.09681828, 0.09681828, 0.09681828,\n",
       "        0.09681828, 0.09681828, 0.09681828, 0.09681828, 0.09681828,\n",
       "        0.09681828, 0.09681828, 0.09681828, 0.09681828, 0.09681828,\n",
       "        0.09681828, 0.09681828, 0.09681828, 0.09681828, 0.09681828,\n",
       "        0.09681828, 0.09681828, 0.09681828, 0.09681828, 0.09681828,\n",
       "        0.09681828, 0.09681828, 0.09681828, 0.09681828, 0.09681828,\n",
       "        0.09681828, 0.09681828, 0.09681828, 0.09681828, 0.09681828,\n",
       "        0.09681828, 0.09681828, 0.09681828, 0.09681828, 0.09681828,\n",
       "        0.09681828, 0.09681828, 0.09681828, 0.09681828, 0.09681828,\n",
       "        0.09681828, 0.09681828, 0.09681828, 0.09681828, 0.09681828,\n",
       "        0.09681828, 0.09681828, 0.09681828, 0.09681828, 0.09681828,\n",
       "        0.09681828, 0.09681828, 0.09681828, 0.09681828, 0.09681828,\n",
       "        0.09681828, 0.09681828, 0.09681828, 0.09681828, 0.09681828,\n",
       "        0.09681828, 0.09681828, 0.09681828, 0.09681828, 0.09681828,\n",
       "        0.09681828, 0.09681828, 0.09681828, 0.09681828, 0.09681828,\n",
       "        0.09681828, 0.09681828, 0.09681828, 0.09681828, 0.09681828,\n",
       "        0.09681828, 0.09681828, 0.09681828, 0.09681828, 0.09681828,\n",
       "        0.09681828, 0.09681828, 0.09681828, 0.09681828, 0.09681828,\n",
       "        0.09681828, 0.09681828, 0.09681828, 0.09681828, 0.09681828,\n",
       "        0.09681828, 0.09681828, 0.09681828, 0.09681828, 0.09681828,\n",
       "        0.09681828, 0.09681828, 0.09681828, 0.09681828, 0.09681828,\n",
       "        0.09681828, 0.09681828, 0.09681828, 0.09681828, 0.09681828,\n",
       "        0.09681828, 0.09681828, 0.09681828, 0.09681828, 0.09681828,\n",
       "        0.09681828, 0.09681828, 0.09681828, 0.09681828, 0.09681828,\n",
       "        0.09681828, 0.09681828, 0.09681828, 0.09681828, 0.09681828,\n",
       "        0.09681828, 0.09681828, 0.09681828, 0.09681828, 0.09681828,\n",
       "        0.09681828, 0.09681828, 0.09681828, 0.09681828, 0.09681828,\n",
       "        0.09681828, 0.09681828, 0.09681828, 0.09681828, 0.09681828,\n",
       "        0.09681828, 0.09681828, 0.09681828, 0.09681828, 0.09681828,\n",
       "        0.09681828, 0.09681828, 0.09681828, 0.09681828, 0.09681828,\n",
       "        0.09681828, 0.09681828, 0.09681828, 0.09681828, 0.09681828,\n",
       "        0.09681828, 0.09681828, 0.09681828, 0.09681828, 0.09681828,\n",
       "        0.09681828, 0.09681828, 0.09681828, 0.09681828, 0.09681828,\n",
       "        0.09681828, 0.09681828, 0.09681828, 0.09681828, 0.09681828,\n",
       "        0.09681828, 0.09681828, 0.09681828, 0.09681828, 0.09681828,\n",
       "        0.09681828, 0.09681828, 0.09681828, 0.09681828, 0.09681828,\n",
       "        0.09681828, 0.09681828, 0.09681828, 0.09681828, 0.09681828,\n",
       "        0.09681828, 0.09681828, 0.09681828, 0.09681828, 0.09681828,\n",
       "        0.09681828, 0.09681828, 0.09681828, 0.09681828, 0.09681828,\n",
       "        0.09681828, 0.09681828, 0.09681828, 0.09681828, 0.09681828,\n",
       "        0.09681828, 0.09681828, 0.09681828, 0.09681828, 0.09681828,\n",
       "        0.09681828, 0.09681828, 0.09681828, 0.09681828, 0.09681828,\n",
       "        0.09681828, 0.09681828, 0.09681828, 0.09681828, 0.09681828,\n",
       "        0.09681828, 0.09681828, 0.09681828, 0.09681828, 0.09681828,\n",
       "        0.09681828, 0.09681828, 0.09681828, 0.09681828, 0.09681828,\n",
       "        0.09681828, 0.09681828, 0.09681828, 0.09681828, 0.09681828,\n",
       "        0.09681828, 0.09681828, 0.09681828, 0.09681828, 0.09681828,\n",
       "        0.09681828, 0.09681828, 0.09681828, 0.09681828, 0.09681828,\n",
       "        0.09681828, 0.09681828, 0.09681828, 0.09681828, 0.09681828,\n",
       "        0.09681828, 0.09681828, 0.09681828, 0.09681828, 0.09681828,\n",
       "        0.09681828, 0.09681828, 0.09681828, 0.09681828, 0.09681828,\n",
       "        0.09681828, 0.09681828, 0.09681828, 0.09681828, 0.09681828,\n",
       "        0.09681828, 0.09681828, 0.09681828, 0.09681828, 0.09681828,\n",
       "        0.09681828, 0.09681828, 0.09681828, 0.09681828, 0.09681828,\n",
       "        0.09681828, 0.09681828, 0.09681828, 0.09681828, 0.09681828,\n",
       "        0.09681828, 0.09681828, 0.09681828, 0.09681828, 0.09681828,\n",
       "        0.09681828, 0.09681828, 0.09681828, 0.09681828, 0.09681828,\n",
       "        0.09681828, 0.09681828, 0.09681828, 0.09681828, 0.09681828,\n",
       "        0.09681828, 0.09681828, 0.09681828, 0.09681828, 0.09681828,\n",
       "        0.09681828, 0.09681828, 0.09681828, 0.09681828, 0.09681828,\n",
       "        0.09681828, 0.09681828, 0.09681828, 0.09681828, 0.09681828,\n",
       "        0.09681828, 0.09681828, 0.09681828, 0.09681828, 0.09681828,\n",
       "        0.09681828, 0.09681828, 0.09681828, 0.09681828, 0.09681828,\n",
       "        0.09681828, 0.09681828, 0.09681828, 0.09681828, 0.09681828,\n",
       "        0.09681828, 0.09681828, 0.09681828, 0.09681828, 0.09681828,\n",
       "        0.09681828, 0.09681828, 0.09681828, 0.09681828, 0.09681828,\n",
       "        0.09681828, 0.09681828, 0.09681828, 0.09681828, 0.09681828,\n",
       "        0.09681828, 0.09681828, 0.09681828, 0.09681828, 0.09681828,\n",
       "        0.09681828, 0.09681828, 0.09681828, 0.09681828, 0.09681828,\n",
       "        0.09681828, 0.09681828, 0.09681828, 0.09681828, 0.09681828,\n",
       "        0.09681828, 0.09681828, 0.09681828, 0.09681828, 0.09681828,\n",
       "        0.09681828, 0.09681828, 0.09681828, 0.09681828, 0.09681828,\n",
       "        0.09681828, 0.09681828, 0.09681828, 0.09681828, 0.09681828,\n",
       "        0.09681828, 0.09681828, 0.09681828, 0.09681828, 0.09681828,\n",
       "        0.09681828, 0.09681828, 0.09681828, 0.09681828, 0.09681828,\n",
       "        0.09681828, 0.09681828, 0.09681828, 0.09681828, 0.09681828,\n",
       "        0.09681828, 0.09681828, 0.09681828, 0.09681828, 0.09681828,\n",
       "        0.09681828, 0.09681828, 0.09681828, 0.09681828, 0.09681828,\n",
       "        0.09681828, 0.09681828, 0.09681828, 0.09681828, 0.09681828,\n",
       "        0.09681828, 0.09681828, 0.09681828, 0.09681828, 0.09681828,\n",
       "        0.09681828, 0.09681828, 0.09681828, 0.09681828, 0.09681828,\n",
       "        0.09681828, 0.09681828, 0.09681828, 0.09681828, 0.09681828,\n",
       "        0.09681828, 0.09681828, 0.09681828, 0.09681828, 0.09681828,\n",
       "        0.09681828, 0.09681828, 0.09681828, 0.09681828, 0.09681828,\n",
       "        0.09681828, 0.09681828, 0.09681828, 0.09681828, 0.09681828,\n",
       "        0.09681828, 0.09681828, 0.09681828, 0.09681828, 0.09681828,\n",
       "        0.09681828, 0.09681828, 0.09681828, 0.09681828, 0.09681828,\n",
       "        0.09681828, 0.09681828, 0.09681828, 0.09681828, 0.09681828,\n",
       "        0.09681828, 0.09681828, 0.09681828, 0.09681828, 0.09681828,\n",
       "        0.09681828, 0.09681828, 0.09681828, 0.09681828, 0.09681828,\n",
       "        0.09681828, 0.09681828, 0.09681828, 0.09681828, 0.09681828,\n",
       "        0.09681828, 0.09681828, 0.09681828, 0.09681828, 0.09681828,\n",
       "        0.09681828, 0.09681828, 0.09681828, 0.09681828, 0.09681828,\n",
       "        0.09681828, 0.09681828, 0.09681828, 0.09681828, 0.09681828,\n",
       "        0.09681828, 0.09681828, 0.09681828, 0.09681828, 0.09681828,\n",
       "        0.09681828, 0.09681828, 0.09681828, 0.09681828, 0.09681828,\n",
       "        0.09681828, 0.09681828, 0.09681828, 0.09681828, 0.09681828,\n",
       "        0.09681828, 0.09681828, 0.09681828, 0.09681828, 0.09681828,\n",
       "        0.09681828, 0.09681828, 0.09681828, 0.09681828, 0.09681828,\n",
       "        0.09681828, 0.09681828, 0.09681828, 0.09681828, 0.09681828,\n",
       "        0.09681828, 0.09681828, 0.09681828, 0.09681828, 0.09681828,\n",
       "        0.09681828, 0.09681828, 0.09681828, 0.09681828, 0.09681828,\n",
       "        0.09681828, 0.09681828, 0.09681828, 0.09681828, 0.09681828,\n",
       "        0.09681828, 0.09681828, 0.09681828, 0.09681828, 0.09681828,\n",
       "        0.09681828, 0.09681828, 0.09681828, 0.09681828, 0.09681828,\n",
       "        0.09681828, 0.09681828, 0.09681828, 0.09681828, 0.09681828,\n",
       "        0.09681828, 0.09681828, 0.09681828, 0.09681828, 0.09681828,\n",
       "        0.09681828, 0.09681828, 0.09681828, 0.09681828, 0.09681828,\n",
       "        0.09681828, 0.09681828, 0.09681828, 0.09681828, 0.09681828,\n",
       "        0.09681828, 0.09681828, 0.09681828, 0.09681828, 0.09681828,\n",
       "        0.09681828, 0.09681828, 0.09681828, 0.09681828, 0.09681828,\n",
       "        0.09681828, 0.09681828, 0.09681828, 0.09681828, 0.09681828,\n",
       "        0.09681828, 0.09681828, 0.09681828, 0.09681828, 0.09681828,\n",
       "        0.09681828, 0.09681828, 0.09681828, 0.09681828, 0.09681828,\n",
       "        0.09681828, 0.09681828, 0.09681828, 0.09681828, 0.09681828,\n",
       "        0.09681828, 0.09681828, 0.09681828, 0.09681828, 0.09681828,\n",
       "        0.09681828, 0.09681828, 0.09681828, 0.09681828, 0.09681828,\n",
       "        0.09681828, 0.09681828, 0.09681828, 0.09681828, 0.09681828,\n",
       "        0.09681828, 0.09681828, 0.09681828, 0.09681828, 0.09681828,\n",
       "        0.09681828, 0.09681828, 0.09681828, 0.09681828, 0.09681828,\n",
       "        0.09681828, 0.09681828, 0.09681828, 0.09681828, 0.09681828,\n",
       "        0.09681828, 0.09681828, 0.09681828, 0.09681828, 0.09681828,\n",
       "        0.09681828, 0.09681828, 0.09681828, 0.09681828, 0.09681828,\n",
       "        0.09681828, 0.09681828, 0.09681828, 0.09681828, 0.09681828,\n",
       "        0.09681828, 0.09681828, 0.09681828, 0.09681828, 0.09681828,\n",
       "        0.09681828, 0.09681828, 0.09681828, 0.09681828, 0.09681828,\n",
       "        0.09681828, 0.09681828, 0.09681828, 0.09681828, 0.09681828,\n",
       "        0.09681828, 0.09681828, 0.09681828, 0.09681828, 0.09681828,\n",
       "        0.09681828, 0.09681828, 0.09681828, 0.09681828, 0.09681828,\n",
       "        0.09681828, 0.09681828, 0.09681828, 0.09681828, 0.09681828,\n",
       "        0.09681828, 0.09681828, 0.09681828, 0.09681828, 0.09681828,\n",
       "        0.09681828, 0.09681828, 0.09681828, 0.09681828, 0.09681828,\n",
       "        0.09681828, 0.09681828, 0.09681828, 0.09681828, 0.09681828,\n",
       "        0.09681828, 0.09681828, 0.09681828, 0.09681828, 0.09681828,\n",
       "        0.09681828, 0.09681828, 0.09681828, 0.09681828, 0.09681828,\n",
       "        0.09681828, 0.09681828, 0.09681828, 0.09681828, 0.09681828,\n",
       "        0.09681828, 0.09681828, 0.09681828, 0.09681828, 0.09681828,\n",
       "        0.09681828, 0.09681828, 0.09681828, 0.09681828, 0.09681828,\n",
       "        0.09681828, 0.09681828, 0.09681828, 0.09681828, 0.09681828,\n",
       "        0.09681828, 0.09681828, 0.09681828, 0.09681828, 0.09681828,\n",
       "        0.09681828, 0.09681828, 0.09681828, 0.09681828, 0.09681828,\n",
       "        0.09681828, 0.09681828, 0.09681828, 0.09681828, 0.09681828,\n",
       "        0.09681828, 0.09681828, 0.09681828, 0.09681828, 0.09681828,\n",
       "        0.09681828, 0.09681828, 0.09681828, 0.09681828, 0.09681828,\n",
       "        0.09681828, 0.09681828, 0.09681828, 0.09681828, 0.09681828,\n",
       "        0.09681828, 0.09681828, 0.09681828, 0.09681828, 0.09681828,\n",
       "        0.09681828, 0.09681828, 0.09681828, 0.09681828, 0.09681828,\n",
       "        0.09681828, 0.09681828, 0.09681828, 0.09681828, 0.09681828,\n",
       "        0.09681828, 0.09681828, 0.09681828, 0.09681828, 0.09681828,\n",
       "        0.09681828, 0.09681828, 0.09681828, 0.09681828, 0.09681828,\n",
       "        0.09681828, 0.09681828, 0.09681828, 0.09681828, 0.09681828,\n",
       "        0.09681828, 0.09681828, 0.09681828, 0.09681828, 0.09681828,\n",
       "        0.09681828, 0.09681828, 0.09681828, 0.09681828, 0.09681828,\n",
       "        0.09681828, 0.09681828, 0.09681828, 0.09681828, 0.09681828,\n",
       "        0.09681828, 0.09681828, 0.09681828, 0.09681828, 0.09681828,\n",
       "        0.09681828, 0.09681828, 0.09681828, 0.09681828, 0.09681828,\n",
       "        0.09681828, 0.09681828, 0.09681828, 0.09681828, 0.09681828,\n",
       "        0.09681828, 0.09681828, 0.09681828, 0.09681828, 0.09681828,\n",
       "        0.09681828, 0.09681828, 0.09681828, 0.09681828, 0.09681828,\n",
       "        0.09681828, 0.09681828, 0.09681828, 0.09681828, 0.09681828,\n",
       "        0.09681828, 0.09681828, 0.09681828, 0.09681828, 0.09681828,\n",
       "        0.09681828, 0.09681828, 0.09681828, 0.09681828, 0.09681828,\n",
       "        0.09681828, 0.09681828, 0.09681828, 0.09681828, 0.09681828,\n",
       "        0.09681828, 0.09681828, 0.09681828, 0.09681828, 0.09681828,\n",
       "        0.09681828, 0.09681828, 0.09681828, 0.09681828, 0.09681828,\n",
       "        0.09681828, 0.09681828, 0.09681828, 0.09681828, 0.09681828,\n",
       "        0.09681828, 0.09681828, 0.09681828, 0.09681828, 0.09681828,\n",
       "        0.09681828, 0.09681828, 0.09681828, 0.09681828, 0.09681828,\n",
       "        0.09681828, 0.09681828, 0.09681828, 0.09681828, 0.09681828,\n",
       "        0.09681828, 0.09681828, 0.09681828, 0.09681828, 0.09681828,\n",
       "        0.09681828, 0.09681828, 0.09681828, 0.09681828, 0.09681828,\n",
       "        0.09681828, 0.09681828, 0.09681828, 0.09681828, 0.09681828,\n",
       "        0.09681828, 0.09681828, 0.09681828, 0.09681828, 0.09681828,\n",
       "        0.09681828, 0.09681828, 0.09681828, 0.09681828, 0.09681828,\n",
       "        0.09681828, 0.09681828, 0.09681828, 0.09681828, 0.09681828,\n",
       "        0.09681828, 0.09681828, 0.09681828, 0.09681828, 0.09681828,\n",
       "        0.09681828, 0.09681828, 0.09681828, 0.09681828, 0.09681828,\n",
       "        0.09681828, 0.09681828, 0.09681828, 0.09681828, 0.09681828,\n",
       "        0.09681828, 0.09681828, 0.09681828, 0.09681828, 0.09681828,\n",
       "        0.09681828, 0.09681828, 0.09681828, 0.09681828, 0.09681828,\n",
       "        0.09681828, 0.09681828, 0.09681828, 0.09681828, 0.09681828,\n",
       "        0.09681828, 0.09681828, 0.09681828, 0.09681828, 0.09681828,\n",
       "        0.09681828, 0.09681828, 0.09681828, 0.09681828, 0.09681828,\n",
       "        0.09681828, 0.09681828, 0.09681828, 0.09681828, 0.09681828,\n",
       "        0.09681828, 0.09681828, 0.09681828, 0.09681828, 0.09681828,\n",
       "        0.09681828, 0.09681828, 0.09681828, 0.09681828, 0.09681828,\n",
       "        0.09681828, 0.09681828, 0.09681828, 0.09681828, 0.09681828,\n",
       "        0.09681828, 0.09681828, 0.09681828, 0.09681828, 0.09681828,\n",
       "        0.09681828, 0.09681828, 0.09681828, 0.09681828, 0.09681828,\n",
       "        0.09681828, 0.09681828, 0.09681828, 0.09681828, 0.09681828,\n",
       "        0.09681828, 0.09681828, 0.09681828, 0.09681828, 0.09681828,\n",
       "        0.09681828, 0.09681828, 0.09681828, 0.09681828, 0.09681828]),\n",
       " array([0.16185503, 0.16185503, 0.16185503, 0.16185503, 0.16185503,\n",
       "        0.16185503, 0.16185503, 0.16185503, 0.16185503, 0.16185503,\n",
       "        0.16185503, 0.16185503, 0.16185503, 0.16185503, 0.16185503,\n",
       "        0.16185503, 0.16185503, 0.16185503, 0.16185503, 0.16185503,\n",
       "        0.16185503, 0.16185503, 0.16185503, 0.16185503, 0.16185503,\n",
       "        0.16185503, 0.16185503, 0.16185503, 0.16185503, 0.16185503,\n",
       "        0.16185503, 0.16185503, 0.16185503, 0.16185503, 0.16185503,\n",
       "        0.16185503, 0.16185503, 0.16185503, 0.16185503, 0.16185503,\n",
       "        0.16185503, 0.16185503, 0.16185503, 0.16185503, 0.16185503,\n",
       "        0.16185503, 0.16185503, 0.16185503, 0.16185503, 0.16185503,\n",
       "        0.16185503, 0.16185503, 0.16185503, 0.16185503, 0.16185503,\n",
       "        0.16185503, 0.16185503, 0.16185503, 0.16185503, 0.16185503,\n",
       "        0.16185503, 0.16185503, 0.16185503, 0.16185503, 0.16185503,\n",
       "        0.16185503, 0.16185503, 0.16185503, 0.16185503, 0.16185503,\n",
       "        0.16185503, 0.16185503, 0.16185503, 0.16185503, 0.16185503,\n",
       "        0.16185503, 0.16185503, 0.16185503, 0.16185503, 0.16185503,\n",
       "        0.16185503, 0.16185503, 0.16185503, 0.16185503, 0.16185503,\n",
       "        0.16185503, 0.16185503, 0.16185503, 0.16185503, 0.16185503,\n",
       "        0.16185503, 0.16185503, 0.16185503, 0.16185503, 0.16185503,\n",
       "        0.16185503, 0.16185503, 0.16185503, 0.16185503, 0.16185503,\n",
       "        0.16185503, 0.16185503, 0.16185503, 0.16185503, 0.16185503,\n",
       "        0.16185503, 0.16185503, 0.16185503, 0.16185503, 0.16185503,\n",
       "        0.16185503, 0.16185503, 0.16185503, 0.16185503, 0.16185503,\n",
       "        0.16185503, 0.16185503, 0.16185503, 0.16185503, 0.16185503,\n",
       "        0.16185503, 0.16185503, 0.16185503, 0.16185503, 0.16185503,\n",
       "        0.16185503, 0.16185503, 0.16185503, 0.16185503, 0.16185503,\n",
       "        0.16185503, 0.16185503, 0.16185503, 0.16185503, 0.16185503,\n",
       "        0.16185503, 0.16185503, 0.16185503, 0.16185503, 0.16185503,\n",
       "        0.16185503, 0.16185503, 0.16185503, 0.16185503, 0.16185503,\n",
       "        0.16185503, 0.16185503, 0.16185503, 0.16185503, 0.16185503,\n",
       "        0.16185503, 0.16185503, 0.16185503, 0.16185503, 0.16185503,\n",
       "        0.16185503, 0.16185503, 0.16185503, 0.16185503, 0.16185503,\n",
       "        0.16185503, 0.16185503, 0.16185503, 0.16185503, 0.16185503,\n",
       "        0.16185503, 0.16185503, 0.16185503, 0.16185503, 0.16185503,\n",
       "        0.16185503, 0.16185503, 0.16185503, 0.16185503, 0.16185503,\n",
       "        0.16185503, 0.16185503, 0.16185503, 0.16185503, 0.16185503,\n",
       "        0.16185503, 0.16185503, 0.16185503, 0.16185503, 0.16185503,\n",
       "        0.16185503, 0.16185503, 0.16185503, 0.16185503, 0.16185503,\n",
       "        0.16185503, 0.16185503, 0.16185503, 0.16185503, 0.16185503,\n",
       "        0.16185503, 0.16185503, 0.16185503, 0.16185503, 0.16185503,\n",
       "        0.16185503, 0.16185503, 0.16185503, 0.16185503, 0.16185503,\n",
       "        0.16185503, 0.16185503, 0.16185503, 0.16185503, 0.16185503,\n",
       "        0.16185503, 0.16185503, 0.16185503, 0.16185503, 0.16185503,\n",
       "        0.16185503, 0.16185503, 0.16185503, 0.16185503, 0.16185503,\n",
       "        0.16185503, 0.16185503, 0.16185503, 0.16185503, 0.16185503,\n",
       "        0.16185503, 0.16185503, 0.16185503, 0.16185503, 0.16185503,\n",
       "        0.16185503, 0.16185503, 0.16185503, 0.16185503, 0.16185503,\n",
       "        0.16185503, 0.16185503, 0.16185503, 0.16185503, 0.16185503,\n",
       "        0.16185503, 0.16185503, 0.16185503, 0.16185503, 0.16185503,\n",
       "        0.16185503, 0.16185503, 0.16185503, 0.16185503, 0.16185503,\n",
       "        0.16185503, 0.16185503, 0.16185503, 0.16185503, 0.16185503,\n",
       "        0.16185503, 0.16185503, 0.16185503, 0.16185503, 0.16185503,\n",
       "        0.16185503, 0.16185503, 0.16185503, 0.16185503, 0.16185503,\n",
       "        0.16185503, 0.16185503, 0.16185503, 0.16185503, 0.16185503,\n",
       "        0.16185503, 0.16185503, 0.16185503, 0.16185503, 0.16185503,\n",
       "        0.16185503, 0.16185503, 0.16185503, 0.16185503, 0.16185503,\n",
       "        0.16185503, 0.16185503, 0.16185503, 0.16185503, 0.16185503,\n",
       "        0.16185503, 0.16185503, 0.16185503, 0.16185503, 0.16185503,\n",
       "        0.16185503, 0.16185503, 0.16185503, 0.16185503, 0.16185503,\n",
       "        0.16185503, 0.16185503, 0.16185503, 0.16185503, 0.16185503,\n",
       "        0.16185503, 0.16185503, 0.16185503, 0.16185503, 0.16185503,\n",
       "        0.16185503, 0.16185503, 0.16185503, 0.16185503, 0.16185503,\n",
       "        0.16185503, 0.16185503, 0.16185503, 0.16185503, 0.16185503,\n",
       "        0.16185503, 0.16185503, 0.16185503, 0.16185503, 0.16185503,\n",
       "        0.16185503, 0.16185503, 0.16185503, 0.16185503, 0.16185503,\n",
       "        0.16185503, 0.16185503, 0.16185503, 0.16185503, 0.16185503,\n",
       "        0.16185503, 0.16185503, 0.16185503, 0.16185503, 0.16185503,\n",
       "        0.16185503, 0.16185503, 0.16185503, 0.16185503, 0.16185503,\n",
       "        0.16185503, 0.16185503, 0.16185503, 0.16185503, 0.16185503,\n",
       "        0.16185503, 0.16185503, 0.16185503, 0.16185503, 0.16185503,\n",
       "        0.16185503, 0.16185503, 0.16185503, 0.16185503, 0.16185503,\n",
       "        0.16185503, 0.16185503, 0.16185503, 0.16185503, 0.16185503,\n",
       "        0.16185503, 0.16185503, 0.16185503, 0.16185503, 0.16185503,\n",
       "        0.16185503, 0.16185503, 0.16185503, 0.16185503, 0.16185503,\n",
       "        0.16185503, 0.16185503, 0.16185503, 0.16185503, 0.16185503,\n",
       "        0.16185503, 0.16185503, 0.16185503, 0.16185503, 0.16185503,\n",
       "        0.16185503, 0.16185503, 0.16185503, 0.16185503, 0.16185503,\n",
       "        0.16185503, 0.16185503, 0.16185503, 0.16185503, 0.16185503,\n",
       "        0.16185503, 0.16185503, 0.16185503, 0.16185503, 0.16185503,\n",
       "        0.16185503, 0.16185503, 0.16185503, 0.16185503, 0.16185503,\n",
       "        0.16185503, 0.16185503, 0.16185503, 0.16185503, 0.16185503,\n",
       "        0.16185503, 0.16185503, 0.16185503, 0.16185503, 0.16185503,\n",
       "        0.16185503, 0.16185503, 0.16185503, 0.16185503, 0.16185503,\n",
       "        0.16185503, 0.16185503, 0.16185503, 0.16185503, 0.16185503,\n",
       "        0.16185503, 0.16185503, 0.16185503, 0.16185503, 0.16185503,\n",
       "        0.16185503, 0.16185503, 0.16185503, 0.16185503, 0.16185503,\n",
       "        0.16185503, 0.16185503, 0.16185503, 0.16185503, 0.16185503,\n",
       "        0.16185503, 0.16185503, 0.16185503, 0.16185503, 0.16185503,\n",
       "        0.16185503, 0.16185503, 0.16185503, 0.16185503, 0.16185503,\n",
       "        0.16185503, 0.16185503, 0.16185503, 0.16185503, 0.16185503,\n",
       "        0.16185503, 0.16185503, 0.16185503, 0.16185503, 0.16185503,\n",
       "        0.16185503, 0.16185503, 0.16185503, 0.16185503, 0.16185503,\n",
       "        0.16185503, 0.16185503, 0.16185503, 0.16185503, 0.16185503,\n",
       "        0.16185503, 0.16185503, 0.16185503, 0.16185503, 0.16185503,\n",
       "        0.16185503, 0.16185503, 0.16185503, 0.16185503, 0.16185503,\n",
       "        0.16185503, 0.16185503, 0.16185503, 0.16185503, 0.16185503,\n",
       "        0.16185503, 0.16185503, 0.16185503, 0.16185503, 0.16185503,\n",
       "        0.16185503, 0.16185503, 0.16185503, 0.16185503, 0.16185503,\n",
       "        0.16185503, 0.16185503, 0.16185503, 0.16185503, 0.16185503,\n",
       "        0.16185503, 0.16185503, 0.16185503, 0.16185503, 0.16185503,\n",
       "        0.16185503, 0.16185503, 0.16185503, 0.16185503, 0.16185503,\n",
       "        0.16185503, 0.16185503, 0.16185503, 0.16185503, 0.16185503,\n",
       "        0.16185503, 0.16185503, 0.16185503, 0.16185503, 0.16185503,\n",
       "        0.16185503, 0.16185503, 0.16185503, 0.16185503, 0.16185503,\n",
       "        0.16185503, 0.16185503, 0.16185503, 0.16185503, 0.16185503,\n",
       "        0.16185503, 0.16185503, 0.16185503, 0.16185503, 0.16185503,\n",
       "        0.16185503, 0.16185503, 0.16185503, 0.16185503, 0.16185503,\n",
       "        0.16185503, 0.16185503, 0.16185503, 0.16185503, 0.16185503,\n",
       "        0.16185503, 0.16185503, 0.16185503, 0.16185503, 0.16185503,\n",
       "        0.16185503, 0.16185503, 0.16185503, 0.16185503, 0.16185503,\n",
       "        0.16185503, 0.16185503, 0.16185503, 0.16185503, 0.16185503,\n",
       "        0.16185503, 0.16185503, 0.16185503, 0.16185503, 0.16185503,\n",
       "        0.16185503, 0.16185503, 0.16185503, 0.16185503, 0.16185503,\n",
       "        0.16185503, 0.16185503, 0.16185503, 0.16185503, 0.16185503,\n",
       "        0.16185503, 0.16185503, 0.16185503, 0.16185503, 0.16185503,\n",
       "        0.16185503, 0.16185503, 0.16185503, 0.16185503, 0.16185503,\n",
       "        0.16185503, 0.16185503, 0.16185503, 0.16185503, 0.16185503,\n",
       "        0.16185503, 0.16185503, 0.16185503, 0.16185503, 0.16185503,\n",
       "        0.16185503, 0.16185503, 0.16185503, 0.16185503, 0.16185503,\n",
       "        0.16185503, 0.16185503, 0.16185503, 0.16185503, 0.16185503,\n",
       "        0.16185503, 0.16185503, 0.16185503, 0.16185503, 0.16185503,\n",
       "        0.16185503, 0.16185503, 0.16185503, 0.16185503, 0.16185503,\n",
       "        0.16185503, 0.16185503, 0.16185503, 0.16185503, 0.16185503,\n",
       "        0.16185503, 0.16185503, 0.16185503, 0.16185503, 0.16185503,\n",
       "        0.16185503, 0.16185503, 0.16185503, 0.16185503, 0.16185503,\n",
       "        0.16185503, 0.16185503, 0.16185503, 0.16185503, 0.16185503,\n",
       "        0.16185503, 0.16185503, 0.16185503, 0.16185503, 0.16185503,\n",
       "        0.16185503, 0.16185503, 0.16185503, 0.16185503, 0.16185503,\n",
       "        0.16185503, 0.16185503, 0.16185503, 0.16185503, 0.16185503,\n",
       "        0.16185503, 0.16185503, 0.16185503, 0.16185503, 0.16185503,\n",
       "        0.16185503, 0.16185503, 0.16185503, 0.16185503, 0.16185503,\n",
       "        0.16185503, 0.16185503, 0.16185503, 0.16185503, 0.16185503,\n",
       "        0.16185503, 0.16185503, 0.16185503, 0.16185503, 0.16185503,\n",
       "        0.16185503, 0.16185503, 0.16185503, 0.16185503, 0.16185503,\n",
       "        0.16185503, 0.16185503, 0.16185503, 0.16185503, 0.16185503,\n",
       "        0.16185503, 0.16185503, 0.16185503, 0.16185503, 0.16185503,\n",
       "        0.16185503, 0.16185503, 0.16185503, 0.16185503, 0.16185503,\n",
       "        0.16185503, 0.16185503, 0.16185503, 0.16185503, 0.16185503,\n",
       "        0.16185503, 0.16185503, 0.16185503, 0.16185503, 0.16185503,\n",
       "        0.16185503, 0.16185503, 0.16185503, 0.16185503, 0.16185503,\n",
       "        0.16185503, 0.16185503, 0.16185503, 0.16185503, 0.16185503,\n",
       "        0.16185503, 0.16185503, 0.16185503, 0.16185503, 0.16185503,\n",
       "        0.16185503, 0.16185503, 0.16185503, 0.16185503, 0.16185503,\n",
       "        0.16185503, 0.16185503, 0.16185503, 0.16185503, 0.16185503,\n",
       "        0.16185503, 0.16185503, 0.16185503, 0.16185503, 0.16185503,\n",
       "        0.16185503, 0.16185503, 0.16185503, 0.16185503, 0.16185503,\n",
       "        0.16185503, 0.16185503, 0.16185503, 0.16185503, 0.16185503,\n",
       "        0.16185503, 0.16185503, 0.16185503, 0.16185503, 0.16185503,\n",
       "        0.16185503, 0.16185503, 0.16185503, 0.16185503, 0.16185503,\n",
       "        0.16185503, 0.16185503, 0.16185503, 0.16185503, 0.16185503,\n",
       "        0.16185503, 0.16185503, 0.16185503, 0.16185503, 0.16185503,\n",
       "        0.16185503, 0.16185503, 0.16185503, 0.16185503, 0.16185503,\n",
       "        0.16185503, 0.16185503, 0.16185503, 0.16185503, 0.16185503,\n",
       "        0.16185503, 0.16185503, 0.16185503, 0.16185503, 0.16185503,\n",
       "        0.16185503, 0.16185503, 0.16185503, 0.16185503, 0.16185503,\n",
       "        0.16185503, 0.16185503, 0.16185503, 0.16185503, 0.16185503,\n",
       "        0.16185503, 0.16185503, 0.16185503, 0.16185503, 0.16185503,\n",
       "        0.16185503, 0.16185503, 0.16185503, 0.16185503, 0.16185503,\n",
       "        0.16185503, 0.16185503, 0.16185503, 0.16185503, 0.16185503,\n",
       "        0.16185503, 0.16185503, 0.16185503, 0.16185503, 0.16185503,\n",
       "        0.16185503, 0.16185503, 0.16185503, 0.16185503, 0.16185503,\n",
       "        0.16185503, 0.16185503, 0.16185503, 0.16185503, 0.16185503,\n",
       "        0.16185503, 0.16185503, 0.16185503, 0.16185503, 0.16185503,\n",
       "        0.16185503, 0.16185503, 0.16185503, 0.16185503, 0.16185503,\n",
       "        0.16185503, 0.16185503, 0.16185503, 0.16185503, 0.16185503,\n",
       "        0.16185503, 0.16185503, 0.16185503, 0.16185503, 0.16185503,\n",
       "        0.16185503, 0.16185503, 0.16185503, 0.16185503, 0.16185503,\n",
       "        0.16185503, 0.16185503, 0.16185503, 0.16185503, 0.16185503,\n",
       "        0.16185503, 0.16185503, 0.16185503, 0.16185503, 0.16185503,\n",
       "        0.16185503, 0.16185503, 0.16185503, 0.16185503, 0.16185503,\n",
       "        0.16185503, 0.16185503, 0.16185503, 0.16185503, 0.16185503,\n",
       "        0.16185503, 0.16185503, 0.16185503, 0.16185503, 0.16185503,\n",
       "        0.16185503, 0.16185503, 0.16185503, 0.16185503, 0.16185503,\n",
       "        0.16185503, 0.16185503, 0.16185503, 0.16185503, 0.16185503,\n",
       "        0.16185503, 0.16185503, 0.16185503, 0.16185503, 0.16185503,\n",
       "        0.16185503, 0.16185503, 0.16185503, 0.16185503, 0.16185503,\n",
       "        0.16185503, 0.16185503, 0.16185503, 0.16185503, 0.16185503,\n",
       "        0.16185503, 0.16185503, 0.16185503, 0.16185503, 0.16185503,\n",
       "        0.16185503, 0.16185503, 0.16185503, 0.16185503, 0.16185503,\n",
       "        0.16185503, 0.16185503, 0.16185503, 0.16185503, 0.16185503,\n",
       "        0.16185503, 0.16185503, 0.16185503, 0.16185503, 0.16185503,\n",
       "        0.16185503, 0.16185503, 0.16185503, 0.16185503, 0.16185503,\n",
       "        0.16185503, 0.16185503, 0.16185503, 0.16185503, 0.16185503,\n",
       "        0.16185503, 0.16185503, 0.16185503, 0.16185503, 0.16185503,\n",
       "        0.16185503, 0.16185503, 0.16185503, 0.16185503, 0.16185503,\n",
       "        0.16185503, 0.16185503, 0.16185503, 0.16185503, 0.16185503,\n",
       "        0.16185503, 0.16185503, 0.16185503, 0.16185503, 0.16185503,\n",
       "        0.16185503, 0.16185503, 0.16185503, 0.16185503, 0.16185503,\n",
       "        0.16185503, 0.16185503, 0.16185503, 0.16185503, 0.16185503,\n",
       "        0.16185503, 0.16185503, 0.16185503, 0.16185503, 0.16185503,\n",
       "        0.16185503, 0.16185503, 0.16185503, 0.16185503, 0.16185503,\n",
       "        0.16185503, 0.16185503, 0.16185503, 0.16185503, 0.16185503,\n",
       "        0.16185503, 0.16185503, 0.16185503, 0.16185503, 0.16185503,\n",
       "        0.16185503, 0.16185503, 0.16185503, 0.16185503, 0.16185503,\n",
       "        0.16185503, 0.16185503, 0.16185503, 0.16185503, 0.16185503,\n",
       "        0.16185503, 0.16185503, 0.16185503, 0.16185503, 0.16185503,\n",
       "        0.16185503, 0.16185503, 0.16185503, 0.16185503, 0.16185503,\n",
       "        0.16185503, 0.16185503, 0.16185503, 0.16185503, 0.16185503,\n",
       "        0.16185503, 0.16185503, 0.16185503, 0.16185503, 0.16185503,\n",
       "        0.16185503, 0.16185503, 0.16185503, 0.16185503, 0.16185503]))"
      ]
     },
     "execution_count": 19,
     "metadata": {},
     "output_type": "execute_result"
    }
   ],
   "source": [
    "pfolio_returns,pfolio_volatility"
   ]
  },
  {
   "cell_type": "code",
   "execution_count": 20,
   "id": "85cdc6ec",
   "metadata": {},
   "outputs": [],
   "source": [
    "portfolios = pd.DataFrame({'Return': pfolio_returns, 'Volatility': pfolio_volatility})"
   ]
  },
  {
   "cell_type": "code",
   "execution_count": 21,
   "id": "dd4317e4",
   "metadata": {},
   "outputs": [
    {
     "data": {
      "text/html": [
       "<div>\n",
       "<style scoped>\n",
       "    .dataframe tbody tr th:only-of-type {\n",
       "        vertical-align: middle;\n",
       "    }\n",
       "\n",
       "    .dataframe tbody tr th {\n",
       "        vertical-align: top;\n",
       "    }\n",
       "\n",
       "    .dataframe thead th {\n",
       "        text-align: right;\n",
       "    }\n",
       "</style>\n",
       "<table border=\"1\" class=\"dataframe\">\n",
       "  <thead>\n",
       "    <tr style=\"text-align: right;\">\n",
       "      <th></th>\n",
       "      <th>Return</th>\n",
       "      <th>Volatility</th>\n",
       "    </tr>\n",
       "  </thead>\n",
       "  <tbody>\n",
       "    <tr>\n",
       "      <th>0</th>\n",
       "      <td>0.096818</td>\n",
       "      <td>0.161855</td>\n",
       "    </tr>\n",
       "    <tr>\n",
       "      <th>1</th>\n",
       "      <td>0.096818</td>\n",
       "      <td>0.161855</td>\n",
       "    </tr>\n",
       "    <tr>\n",
       "      <th>2</th>\n",
       "      <td>0.096818</td>\n",
       "      <td>0.161855</td>\n",
       "    </tr>\n",
       "    <tr>\n",
       "      <th>3</th>\n",
       "      <td>0.096818</td>\n",
       "      <td>0.161855</td>\n",
       "    </tr>\n",
       "    <tr>\n",
       "      <th>4</th>\n",
       "      <td>0.096818</td>\n",
       "      <td>0.161855</td>\n",
       "    </tr>\n",
       "  </tbody>\n",
       "</table>\n",
       "</div>"
      ],
      "text/plain": [
       "     Return  Volatility\n",
       "0  0.096818    0.161855\n",
       "1  0.096818    0.161855\n",
       "2  0.096818    0.161855\n",
       "3  0.096818    0.161855\n",
       "4  0.096818    0.161855"
      ]
     },
     "execution_count": 21,
     "metadata": {},
     "output_type": "execute_result"
    }
   ],
   "source": [
    "portfolios.head()"
   ]
  },
  {
   "cell_type": "code",
   "execution_count": 24,
   "id": "f85404a8",
   "metadata": {},
   "outputs": [
    {
     "data": {
      "text/html": [
       "<div>\n",
       "<style scoped>\n",
       "    .dataframe tbody tr th:only-of-type {\n",
       "        vertical-align: middle;\n",
       "    }\n",
       "\n",
       "    .dataframe tbody tr th {\n",
       "        vertical-align: top;\n",
       "    }\n",
       "\n",
       "    .dataframe thead th {\n",
       "        text-align: right;\n",
       "    }\n",
       "</style>\n",
       "<table border=\"1\" class=\"dataframe\">\n",
       "  <thead>\n",
       "    <tr style=\"text-align: right;\">\n",
       "      <th></th>\n",
       "      <th>Return</th>\n",
       "      <th>Volatility</th>\n",
       "    </tr>\n",
       "  </thead>\n",
       "  <tbody>\n",
       "    <tr>\n",
       "      <th>995</th>\n",
       "      <td>0.096818</td>\n",
       "      <td>0.161855</td>\n",
       "    </tr>\n",
       "    <tr>\n",
       "      <th>996</th>\n",
       "      <td>0.096818</td>\n",
       "      <td>0.161855</td>\n",
       "    </tr>\n",
       "    <tr>\n",
       "      <th>997</th>\n",
       "      <td>0.096818</td>\n",
       "      <td>0.161855</td>\n",
       "    </tr>\n",
       "    <tr>\n",
       "      <th>998</th>\n",
       "      <td>0.096818</td>\n",
       "      <td>0.161855</td>\n",
       "    </tr>\n",
       "    <tr>\n",
       "      <th>999</th>\n",
       "      <td>0.096818</td>\n",
       "      <td>0.161855</td>\n",
       "    </tr>\n",
       "  </tbody>\n",
       "</table>\n",
       "</div>"
      ],
      "text/plain": [
       "       Return  Volatility\n",
       "995  0.096818    0.161855\n",
       "996  0.096818    0.161855\n",
       "997  0.096818    0.161855\n",
       "998  0.096818    0.161855\n",
       "999  0.096818    0.161855"
      ]
     },
     "execution_count": 24,
     "metadata": {},
     "output_type": "execute_result"
    }
   ],
   "source": [
    "portfolios.tail()"
   ]
  },
  {
   "cell_type": "code",
   "execution_count": 25,
   "id": "188cf9f0",
   "metadata": {},
   "outputs": [
    {
     "data": {
      "text/plain": [
       "Text(0, 0.5, 'Expected Returns')"
      ]
     },
     "execution_count": 25,
     "metadata": {},
     "output_type": "execute_result"
    },
    {
     "data": {
      "image/png": "[encoded data removed]",
      "text/plain": [
       "<Figure size 1000x600 with 1 Axes>"
      ]
     },
     "metadata": {},
     "output_type": "display_data"
    }
   ],
   "source": [
    "portfolios.plot(x = 'Volatility', y = 'Return' , kind = 'scatter' ,figsize = (10,6));\n",
    "plt.xlabel('Expected Volatility')\n",
    "plt.ylabel('Expected Returns')"
   ]
  },
  {
   "cell_type": "code",
   "execution_count": null,
   "id": "d00ae0db",
   "metadata": {},
   "outputs": [],
   "source": []
  }
 ],
 "metadata": {
  "kernelspec": {
   "display_name": "Python 3 (ipykernel)",
   "language": "python",
   "name": "python3"
  },
  "language_info": {
   "codemirror_mode": {
    "name": "ipython",
    "version": 3
   },
   "file_extension": ".py",
   "mimetype": "text/x-python",
   "name": "python",
   "nbconvert_exporter": "python",
   "pygments_lexer": "ipython3",
   "version": "3.11.5"
  }
 },
 "nbformat": 4,
 "nbformat_minor": 5
}
