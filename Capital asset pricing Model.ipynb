{
 "cells": [
  {
   "cell_type": "code",
   "execution_count": 20,
   "id": "d2555a53",
   "metadata": {},
   "outputs": [],
   "source": [
    "import numpy as np\n",
    "import pandas as pd\n",
    "from pandas_datareader import data as wb\n",
    "import matplotlib.pyplot as plt\n",
    "%matplotlib inline\n",
    "import yfinance as yf\n",
    "\n",
    "assets = ['PG', '^GSPC']\n",
    "pf_data = pd.DataFrame()\n",
    "\n",
    "for a in assets:\n",
    "    data = yf.Ticker(a)\n",
    "    pf_data[a] = data.history(start = '2018-01-01' , end = '2023-12-31')['Close']"
   ]
  },
  {
   "cell_type": "code",
   "execution_count": 21,
   "id": "3bccb4b7",
   "metadata": {},
   "outputs": [
    {
     "data": {
      "text/html": [
       "<div>\n",
       "<style scoped>\n",
       "    .dataframe tbody tr th:only-of-type {\n",
       "        vertical-align: middle;\n",
       "    }\n",
       "\n",
       "    .dataframe tbody tr th {\n",
       "        vertical-align: top;\n",
       "    }\n",
       "\n",
       "    .dataframe thead th {\n",
       "        text-align: right;\n",
       "    }\n",
       "</style>\n",
       "<table border=\"1\" class=\"dataframe\">\n",
       "  <thead>\n",
       "    <tr style=\"text-align: right;\">\n",
       "      <th></th>\n",
       "      <th>PG</th>\n",
       "      <th>^GSPC</th>\n",
       "    </tr>\n",
       "    <tr>\n",
       "      <th>Date</th>\n",
       "      <th></th>\n",
       "      <th></th>\n",
       "    </tr>\n",
       "  </thead>\n",
       "  <tbody>\n",
       "    <tr>\n",
       "      <th>2018-01-02 00:00:00-05:00</th>\n",
       "      <td>NaN</td>\n",
       "      <td>NaN</td>\n",
       "    </tr>\n",
       "    <tr>\n",
       "      <th>2018-01-03 00:00:00-05:00</th>\n",
       "      <td>-0.001214</td>\n",
       "      <td>0.006378</td>\n",
       "    </tr>\n",
       "    <tr>\n",
       "      <th>2018-01-04 00:00:00-05:00</th>\n",
       "      <td>0.007044</td>\n",
       "      <td>0.004021</td>\n",
       "    </tr>\n",
       "    <tr>\n",
       "      <th>2018-01-05 00:00:00-05:00</th>\n",
       "      <td>0.000658</td>\n",
       "      <td>0.007009</td>\n",
       "    </tr>\n",
       "    <tr>\n",
       "      <th>2018-01-08 00:00:00-05:00</th>\n",
       "      <td>0.005247</td>\n",
       "      <td>0.001661</td>\n",
       "    </tr>\n",
       "    <tr>\n",
       "      <th>...</th>\n",
       "      <td>...</td>\n",
       "      <td>...</td>\n",
       "    </tr>\n",
       "    <tr>\n",
       "      <th>2023-12-22 00:00:00-05:00</th>\n",
       "      <td>0.007046</td>\n",
       "      <td>0.001659</td>\n",
       "    </tr>\n",
       "    <tr>\n",
       "      <th>2023-12-26 00:00:00-05:00</th>\n",
       "      <td>0.004533</td>\n",
       "      <td>0.004223</td>\n",
       "    </tr>\n",
       "    <tr>\n",
       "      <th>2023-12-27 00:00:00-05:00</th>\n",
       "      <td>0.000822</td>\n",
       "      <td>0.001429</td>\n",
       "    </tr>\n",
       "    <tr>\n",
       "      <th>2023-12-28 00:00:00-05:00</th>\n",
       "      <td>-0.002262</td>\n",
       "      <td>0.000370</td>\n",
       "    </tr>\n",
       "    <tr>\n",
       "      <th>2023-12-29 00:00:00-05:00</th>\n",
       "      <td>0.005543</td>\n",
       "      <td>-0.002830</td>\n",
       "    </tr>\n",
       "  </tbody>\n",
       "</table>\n",
       "<p>1509 rows × 2 columns</p>\n",
       "</div>"
      ],
      "text/plain": [
       "                                 PG     ^GSPC\n",
       "Date                                         \n",
       "2018-01-02 00:00:00-05:00       NaN       NaN\n",
       "2018-01-03 00:00:00-05:00 -0.001214  0.006378\n",
       "2018-01-04 00:00:00-05:00  0.007044  0.004021\n",
       "2018-01-05 00:00:00-05:00  0.000658  0.007009\n",
       "2018-01-08 00:00:00-05:00  0.005247  0.001661\n",
       "...                             ...       ...\n",
       "2023-12-22 00:00:00-05:00  0.007046  0.001659\n",
       "2023-12-26 00:00:00-05:00  0.004533  0.004223\n",
       "2023-12-27 00:00:00-05:00  0.000822  0.001429\n",
       "2023-12-28 00:00:00-05:00 -0.002262  0.000370\n",
       "2023-12-29 00:00:00-05:00  0.005543 -0.002830\n",
       "\n",
       "[1509 rows x 2 columns]"
      ]
     },
     "execution_count": 21,
     "metadata": {},
     "output_type": "execute_result"
    }
   ],
   "source": [
    "sec_returns = np.log(pf_data/pf_data.shift(1))\n",
    "sec_returns"
   ]
  },
  {
   "cell_type": "code",
   "execution_count": 22,
   "id": "8b12ee4e",
   "metadata": {},
   "outputs": [
    {
     "data": {
      "text/html": [
       "<div>\n",
       "<style scoped>\n",
       "    .dataframe tbody tr th:only-of-type {\n",
       "        vertical-align: middle;\n",
       "    }\n",
       "\n",
       "    .dataframe tbody tr th {\n",
       "        vertical-align: top;\n",
       "    }\n",
       "\n",
       "    .dataframe thead th {\n",
       "        text-align: right;\n",
       "    }\n",
       "</style>\n",
       "<table border=\"1\" class=\"dataframe\">\n",
       "  <thead>\n",
       "    <tr style=\"text-align: right;\">\n",
       "      <th></th>\n",
       "      <th>PG</th>\n",
       "      <th>^GSPC</th>\n",
       "    </tr>\n",
       "  </thead>\n",
       "  <tbody>\n",
       "    <tr>\n",
       "      <th>PG</th>\n",
       "      <td>0.043087</td>\n",
       "      <td>0.024223</td>\n",
       "    </tr>\n",
       "    <tr>\n",
       "      <th>^GSPC</th>\n",
       "      <td>0.024223</td>\n",
       "      <td>0.042737</td>\n",
       "    </tr>\n",
       "  </tbody>\n",
       "</table>\n",
       "</div>"
      ],
      "text/plain": [
       "             PG     ^GSPC\n",
       "PG     0.043087  0.024223\n",
       "^GSPC  0.024223  0.042737"
      ]
     },
     "execution_count": 22,
     "metadata": {},
     "output_type": "execute_result"
    }
   ],
   "source": [
    "cov = sec_returns.cov() * 250 #Covariance of the portfolio annually\n",
    "cov\n"
   ]
  },
  {
   "cell_type": "code",
   "execution_count": 23,
   "id": "121ea57f",
   "metadata": {},
   "outputs": [
    {
     "data": {
      "text/plain": [
       "0.024223028864789293"
      ]
     },
     "execution_count": 23,
     "metadata": {},
     "output_type": "execute_result"
    }
   ],
   "source": [
    "cov_with_market = cov.iloc[0,1] #Covarance between the stock and the market\n",
    "cov_with_market"
   ]
  },
  {
   "cell_type": "code",
   "execution_count": 24,
   "id": "3dc327e1",
   "metadata": {},
   "outputs": [
    {
     "data": {
      "text/plain": [
       "0.04273674205678104"
      ]
     },
     "execution_count": 24,
     "metadata": {},
     "output_type": "execute_result"
    }
   ],
   "source": [
    "market_var = sec_returns['^GSPC'].var() * 250 #market variance\n",
    "market_var"
   ]
  },
  {
   "cell_type": "code",
   "execution_count": 25,
   "id": "8caaacde",
   "metadata": {},
   "outputs": [
    {
     "data": {
      "text/plain": [
       "0.5667963372735808"
      ]
     },
     "execution_count": 25,
     "metadata": {},
     "output_type": "execute_result"
    }
   ],
   "source": [
    "PG_beta = cov_with_market/market_var # beta is greater than 0 but less than one, this means PG is a defensive stock\n",
    "#if beta = 0 no relationship with market , if beta > 1 it is an aggressive stock and thus more volatile\n",
    "PG_beta"
   ]
  },
  {
   "cell_type": "code",
   "execution_count": 26,
   "id": "4b7ea1d8",
   "metadata": {},
   "outputs": [],
   "source": [
    "# Calculate the EXpected Return of PG(CAPM)"
   ]
  },
  {
   "cell_type": "code",
   "execution_count": 27,
   "id": "059030e3",
   "metadata": {},
   "outputs": [
    {
     "data": {
      "text/plain": [
       "0.05333981686367904"
      ]
     },
     "execution_count": 27,
     "metadata": {},
     "output_type": "execute_result"
    }
   ],
   "source": [
    "PG_er = 0.025 + PG_beta * 0.05\n",
    "PG_er"
   ]
  },
  {
   "cell_type": "code",
   "execution_count": 28,
   "id": "6b9103be",
   "metadata": {},
   "outputs": [],
   "source": [
    "# SHARPE RATIO"
   ]
  },
  {
   "cell_type": "code",
   "execution_count": 29,
   "id": "bdf38b60",
   "metadata": {},
   "outputs": [
    {
     "data": {
      "text/plain": [
       "0.1365285214197807"
      ]
     },
     "execution_count": 29,
     "metadata": {},
     "output_type": "execute_result"
    }
   ],
   "source": [
    "Sharpe = (PG_er - 0.025)/(sec_returns['PG'].std()* 250**0.5)\n",
    "Sharpe"
   ]
  },
  {
   "cell_type": "code",
   "execution_count": null,
   "id": "b84b00c1",
   "metadata": {},
   "outputs": [],
   "source": []
  }
 ],
 "metadata": {
  "kernelspec": {
   "display_name": "Python 3 (ipykernel)",
   "language": "python",
   "name": "python3"
  },
  "language_info": {
   "codemirror_mode": {
    "name": "ipython",
    "version": 3
   },
   "file_extension": ".py",
   "mimetype": "text/x-python",
   "name": "python",
   "nbconvert_exporter": "python",
   "pygments_lexer": "ipython3",
   "version": "3.11.5"
  }
 },
 "nbformat": 4,
 "nbformat_minor": 5
}
